{
 "cells": [
  {
   "cell_type": "markdown",
   "metadata": {},
   "source": [
    "This notebook follows from the file `hetero_2_3_analyse_the_annual_ts.py`.\n",
    "# Read the data"
   ]
  },
  {
   "cell_type": "code",
   "execution_count": 1,
   "metadata": {},
   "outputs": [
    {
     "name": "stdout",
     "output_type": "stream",
     "text": [
      "The shape of slopes is: (len(ALPHAS), len(DECADES), len(LATS), len(LONS)) = (5, 8, 60, 144)\n"
     ]
    }
   ],
   "source": [
    "import h5py\n",
    "import numpy as np\n",
    "\n",
    "filename = r\"C:\\SUSTech\\datasets_of_graduation_project\\hetero_outputs\\decadely_slopes.h5\"\n",
    "\n",
    "with h5py.File(filename, 'r') as f:\n",
    "    ALPHAS = f['alphas'][:]\n",
    "    DECADES = f['decades'][:]\n",
    "    LATS = f['latitudes'][:]\n",
    "    LONS = f['longitudes'][:]\n",
    "    DECADELY_SLOPES = f['decadely_slopes'][:]\n",
    "    \n",
    "print(\"The shape of slopes is: (len(ALPHAS), len(DECADES), len(LATS), len(LONS)) =\", DECADELY_SLOPES.shape)"
   ]
  },
  {
   "cell_type": "markdown",
   "metadata": {},
   "source": [
    "# Visualizations"
   ]
  },
  {
   "cell_type": "code",
   "execution_count": 2,
   "metadata": {},
   "outputs": [
    {
     "name": "stdout",
     "output_type": "stream",
     "text": [
      "[90 75 50 25 10]\n",
      "[1945 1955 1965 1975 1985 1995 2005 2015 2025]\n",
      "[90.   89.5  89.   88.5  88.   87.5  87.   86.5  86.   85.5  85.   84.5\n",
      " 84.   83.5  83.   82.5  82.   81.5  81.   80.5  80.   79.5  79.   78.5\n",
      " 78.   77.5  77.   76.5  76.   75.5  74.75 74.25 73.75 73.25 72.75 72.25\n",
      " 71.75 71.25 70.75 70.25 69.75 69.25 68.75 68.25 67.75 67.25 66.75 66.25\n",
      " 65.75 65.25 64.75 64.25 63.75 63.25 62.75 62.25 61.75 61.25 60.75 60.  ]\n",
      "[-180.   -177.5  -175.   -172.5  -170.   -167.5  -165.   -162.5  -160.\n",
      " -157.5  -155.   -152.5  -150.   -147.5  -145.   -142.5  -139.75 -137.25\n",
      " -134.75 -132.25 -129.75 -127.25 -124.75 -122.25 -119.75 -117.25 -114.75\n",
      " -112.25 -109.75 -107.25 -104.75 -102.25  -99.5   -97.    -94.5   -92.\n",
      "  -89.5   -87.    -84.5   -82.    -79.5   -77.    -74.5   -72.    -69.5\n",
      "  -67.    -64.5   -62.    -59.25  -56.75  -54.25  -51.75  -49.25  -46.75\n",
      "  -44.25  -41.75  -39.25  -36.75  -34.25  -31.75  -29.25  -26.75  -24.25\n",
      "  -21.75  -19.    -16.5   -14.    -11.5    -9.     -6.5    -4.     -1.5\n",
      "    1.      3.5     6.      8.5    11.     13.5    16.     18.5    21.25\n",
      "   23.75   26.25   28.75   31.25   33.75   36.25   38.75   41.25   43.75\n",
      "   46.25   48.75   51.25   53.75   56.25   58.75   61.5    64.     66.5\n",
      "   69.     71.5    74.     76.5    79.     81.5    84.     86.5    89.\n",
      "   91.5    94.     96.5    99.    101.75  104.25  106.75  109.25  111.75\n",
      "  114.25  116.75  119.25  121.75  124.25  126.75  129.25  131.75  134.25\n",
      "  136.75  139.25  142.    144.5   147.    149.5   152.    154.5   157.\n",
      "  159.5   162.    164.5   167.    169.5   172.    174.5   177.    179.75]\n"
     ]
    },
    {
     "data": {
      "text/plain": [
       "array([[0.00612109, 0.00612109, 0.00612109, ..., 0.00612109, 0.00612109,\n",
       "        0.00612109],\n",
       "       [0.00434311, 0.0051965 , 0.00599643, ..., 0.00642201, 0.00531635,\n",
       "        0.00436494],\n",
       "       [0.00370927, 0.00412468, 0.00463109, ..., 0.00444724, 0.00404219,\n",
       "        0.00376846],\n",
       "       ...,\n",
       "       [0.1404924 , 0.14319846, 0.15435901, ..., 0.09193689, 0.12035652,\n",
       "        0.13469812],\n",
       "       [0.11051414, 0.11978871, 0.16195512, ..., 0.10392918, 0.09952763,\n",
       "        0.10762292],\n",
       "       [0.09651637, 0.10512029, 0.15110306, ..., 0.08233846, 0.07740386,\n",
       "        0.09656946]], dtype=float32)"
      ]
     },
     "execution_count": 2,
     "metadata": {},
     "output_type": "execute_result"
    }
   ],
   "source": [
    "print(ALPHAS)\n",
    "print(DECADES)\n",
    "print(LATS)\n",
    "print(LONS)\n",
    "DECADELY_SLOPES[0, 0]"
   ]
  },
  {
   "cell_type": "code",
   "execution_count": 3,
   "metadata": {},
   "outputs": [
    {
     "name": "stderr",
     "output_type": "stream",
     "text": [
      "C:\\Users\\15523\\AppData\\Local\\Temp\\ipykernel_19284\\4026849795.py:37: UserWarning: The input coordinates to pcolormesh are interpreted as cell centers, but are not monotonically increasing or decreasing. This may lead to incorrectly calculated cell edges, in which case, please supply explicit cell edges to pcolormesh.\n",
      "  c = m_ax.pcolormesh(x, y, decadely_slopes_alpha_decade, cmap=cmap, norm=norm, shading=\"auto\")\n",
      "C:\\Users\\15523\\AppData\\Local\\Temp\\ipykernel_19284\\4026849795.py:37: UserWarning: The input coordinates to pcolormesh are interpreted as cell centers, but are not monotonically increasing or decreasing. This may lead to incorrectly calculated cell edges, in which case, please supply explicit cell edges to pcolormesh.\n",
      "  c = m_ax.pcolormesh(x, y, decadely_slopes_alpha_decade, cmap=cmap, norm=norm, shading=\"auto\")\n",
      "C:\\Users\\15523\\AppData\\Local\\Temp\\ipykernel_19284\\4026849795.py:37: UserWarning: The input coordinates to pcolormesh are interpreted as cell centers, but are not monotonically increasing or decreasing. This may lead to incorrectly calculated cell edges, in which case, please supply explicit cell edges to pcolormesh.\n",
      "  c = m_ax.pcolormesh(x, y, decadely_slopes_alpha_decade, cmap=cmap, norm=norm, shading=\"auto\")\n",
      "C:\\Users\\15523\\AppData\\Local\\Temp\\ipykernel_19284\\4026849795.py:37: UserWarning: The input coordinates to pcolormesh are interpreted as cell centers, but are not monotonically increasing or decreasing. This may lead to incorrectly calculated cell edges, in which case, please supply explicit cell edges to pcolormesh.\n",
      "  c = m_ax.pcolormesh(x, y, decadely_slopes_alpha_decade, cmap=cmap, norm=norm, shading=\"auto\")\n",
      "C:\\Users\\15523\\AppData\\Local\\Temp\\ipykernel_19284\\4026849795.py:37: UserWarning: The input coordinates to pcolormesh are interpreted as cell centers, but are not monotonically increasing or decreasing. This may lead to incorrectly calculated cell edges, in which case, please supply explicit cell edges to pcolormesh.\n",
      "  c = m_ax.pcolormesh(x, y, decadely_slopes_alpha_decade, cmap=cmap, norm=norm, shading=\"auto\")\n",
      "C:\\Users\\15523\\AppData\\Local\\Temp\\ipykernel_19284\\4026849795.py:37: UserWarning: The input coordinates to pcolormesh are interpreted as cell centers, but are not monotonically increasing or decreasing. This may lead to incorrectly calculated cell edges, in which case, please supply explicit cell edges to pcolormesh.\n",
      "  c = m_ax.pcolormesh(x, y, decadely_slopes_alpha_decade, cmap=cmap, norm=norm, shading=\"auto\")\n",
      "C:\\Users\\15523\\AppData\\Local\\Temp\\ipykernel_19284\\4026849795.py:37: UserWarning: The input coordinates to pcolormesh are interpreted as cell centers, but are not monotonically increasing or decreasing. This may lead to incorrectly calculated cell edges, in which case, please supply explicit cell edges to pcolormesh.\n",
      "  c = m_ax.pcolormesh(x, y, decadely_slopes_alpha_decade, cmap=cmap, norm=norm, shading=\"auto\")\n",
      "C:\\Users\\15523\\AppData\\Local\\Temp\\ipykernel_19284\\4026849795.py:37: UserWarning: The input coordinates to pcolormesh are interpreted as cell centers, but are not monotonically increasing or decreasing. This may lead to incorrectly calculated cell edges, in which case, please supply explicit cell edges to pcolormesh.\n",
      "  c = m_ax.pcolormesh(x, y, decadely_slopes_alpha_decade, cmap=cmap, norm=norm, shading=\"auto\")\n",
      "C:\\Users\\15523\\AppData\\Local\\Temp\\ipykernel_19284\\4026849795.py:52: UserWarning: This figure includes Axes that are not compatible with tight_layout, so results might be incorrect.\n",
      "  plt.tight_layout(rect=[0, 0, 0.9, 0.96])  # 留出空间给标题和颜色条\n",
      "C:\\Users\\15523\\AppData\\Local\\Temp\\ipykernel_19284\\4026849795.py:37: UserWarning: The input coordinates to pcolormesh are interpreted as cell centers, but are not monotonically increasing or decreasing. This may lead to incorrectly calculated cell edges, in which case, please supply explicit cell edges to pcolormesh.\n",
      "  c = m_ax.pcolormesh(x, y, decadely_slopes_alpha_decade, cmap=cmap, norm=norm, shading=\"auto\")\n",
      "C:\\Users\\15523\\AppData\\Local\\Temp\\ipykernel_19284\\4026849795.py:37: UserWarning: The input coordinates to pcolormesh are interpreted as cell centers, but are not monotonically increasing or decreasing. This may lead to incorrectly calculated cell edges, in which case, please supply explicit cell edges to pcolormesh.\n",
      "  c = m_ax.pcolormesh(x, y, decadely_slopes_alpha_decade, cmap=cmap, norm=norm, shading=\"auto\")\n",
      "C:\\Users\\15523\\AppData\\Local\\Temp\\ipykernel_19284\\4026849795.py:37: UserWarning: The input coordinates to pcolormesh are interpreted as cell centers, but are not monotonically increasing or decreasing. This may lead to incorrectly calculated cell edges, in which case, please supply explicit cell edges to pcolormesh.\n",
      "  c = m_ax.pcolormesh(x, y, decadely_slopes_alpha_decade, cmap=cmap, norm=norm, shading=\"auto\")\n",
      "C:\\Users\\15523\\AppData\\Local\\Temp\\ipykernel_19284\\4026849795.py:37: UserWarning: The input coordinates to pcolormesh are interpreted as cell centers, but are not monotonically increasing or decreasing. This may lead to incorrectly calculated cell edges, in which case, please supply explicit cell edges to pcolormesh.\n",
      "  c = m_ax.pcolormesh(x, y, decadely_slopes_alpha_decade, cmap=cmap, norm=norm, shading=\"auto\")\n",
      "C:\\Users\\15523\\AppData\\Local\\Temp\\ipykernel_19284\\4026849795.py:37: UserWarning: The input coordinates to pcolormesh are interpreted as cell centers, but are not monotonically increasing or decreasing. This may lead to incorrectly calculated cell edges, in which case, please supply explicit cell edges to pcolormesh.\n",
      "  c = m_ax.pcolormesh(x, y, decadely_slopes_alpha_decade, cmap=cmap, norm=norm, shading=\"auto\")\n",
      "C:\\Users\\15523\\AppData\\Local\\Temp\\ipykernel_19284\\4026849795.py:37: UserWarning: The input coordinates to pcolormesh are interpreted as cell centers, but are not monotonically increasing or decreasing. This may lead to incorrectly calculated cell edges, in which case, please supply explicit cell edges to pcolormesh.\n",
      "  c = m_ax.pcolormesh(x, y, decadely_slopes_alpha_decade, cmap=cmap, norm=norm, shading=\"auto\")\n",
      "C:\\Users\\15523\\AppData\\Local\\Temp\\ipykernel_19284\\4026849795.py:37: UserWarning: The input coordinates to pcolormesh are interpreted as cell centers, but are not monotonically increasing or decreasing. This may lead to incorrectly calculated cell edges, in which case, please supply explicit cell edges to pcolormesh.\n",
      "  c = m_ax.pcolormesh(x, y, decadely_slopes_alpha_decade, cmap=cmap, norm=norm, shading=\"auto\")\n",
      "C:\\Users\\15523\\AppData\\Local\\Temp\\ipykernel_19284\\4026849795.py:37: UserWarning: The input coordinates to pcolormesh are interpreted as cell centers, but are not monotonically increasing or decreasing. This may lead to incorrectly calculated cell edges, in which case, please supply explicit cell edges to pcolormesh.\n",
      "  c = m_ax.pcolormesh(x, y, decadely_slopes_alpha_decade, cmap=cmap, norm=norm, shading=\"auto\")\n",
      "C:\\Users\\15523\\AppData\\Local\\Temp\\ipykernel_19284\\4026849795.py:52: UserWarning: This figure includes Axes that are not compatible with tight_layout, so results might be incorrect.\n",
      "  plt.tight_layout(rect=[0, 0, 0.9, 0.96])  # 留出空间给标题和颜色条\n",
      "C:\\Users\\15523\\AppData\\Local\\Temp\\ipykernel_19284\\4026849795.py:37: UserWarning: The input coordinates to pcolormesh are interpreted as cell centers, but are not monotonically increasing or decreasing. This may lead to incorrectly calculated cell edges, in which case, please supply explicit cell edges to pcolormesh.\n",
      "  c = m_ax.pcolormesh(x, y, decadely_slopes_alpha_decade, cmap=cmap, norm=norm, shading=\"auto\")\n",
      "C:\\Users\\15523\\AppData\\Local\\Temp\\ipykernel_19284\\4026849795.py:37: UserWarning: The input coordinates to pcolormesh are interpreted as cell centers, but are not monotonically increasing or decreasing. This may lead to incorrectly calculated cell edges, in which case, please supply explicit cell edges to pcolormesh.\n",
      "  c = m_ax.pcolormesh(x, y, decadely_slopes_alpha_decade, cmap=cmap, norm=norm, shading=\"auto\")\n",
      "C:\\Users\\15523\\AppData\\Local\\Temp\\ipykernel_19284\\4026849795.py:37: UserWarning: The input coordinates to pcolormesh are interpreted as cell centers, but are not monotonically increasing or decreasing. This may lead to incorrectly calculated cell edges, in which case, please supply explicit cell edges to pcolormesh.\n",
      "  c = m_ax.pcolormesh(x, y, decadely_slopes_alpha_decade, cmap=cmap, norm=norm, shading=\"auto\")\n",
      "C:\\Users\\15523\\AppData\\Local\\Temp\\ipykernel_19284\\4026849795.py:37: UserWarning: The input coordinates to pcolormesh are interpreted as cell centers, but are not monotonically increasing or decreasing. This may lead to incorrectly calculated cell edges, in which case, please supply explicit cell edges to pcolormesh.\n",
      "  c = m_ax.pcolormesh(x, y, decadely_slopes_alpha_decade, cmap=cmap, norm=norm, shading=\"auto\")\n",
      "C:\\Users\\15523\\AppData\\Local\\Temp\\ipykernel_19284\\4026849795.py:37: UserWarning: The input coordinates to pcolormesh are interpreted as cell centers, but are not monotonically increasing or decreasing. This may lead to incorrectly calculated cell edges, in which case, please supply explicit cell edges to pcolormesh.\n",
      "  c = m_ax.pcolormesh(x, y, decadely_slopes_alpha_decade, cmap=cmap, norm=norm, shading=\"auto\")\n",
      "C:\\Users\\15523\\AppData\\Local\\Temp\\ipykernel_19284\\4026849795.py:37: UserWarning: The input coordinates to pcolormesh are interpreted as cell centers, but are not monotonically increasing or decreasing. This may lead to incorrectly calculated cell edges, in which case, please supply explicit cell edges to pcolormesh.\n",
      "  c = m_ax.pcolormesh(x, y, decadely_slopes_alpha_decade, cmap=cmap, norm=norm, shading=\"auto\")\n",
      "C:\\Users\\15523\\AppData\\Local\\Temp\\ipykernel_19284\\4026849795.py:37: UserWarning: The input coordinates to pcolormesh are interpreted as cell centers, but are not monotonically increasing or decreasing. This may lead to incorrectly calculated cell edges, in which case, please supply explicit cell edges to pcolormesh.\n",
      "  c = m_ax.pcolormesh(x, y, decadely_slopes_alpha_decade, cmap=cmap, norm=norm, shading=\"auto\")\n",
      "C:\\Users\\15523\\AppData\\Local\\Temp\\ipykernel_19284\\4026849795.py:37: UserWarning: The input coordinates to pcolormesh are interpreted as cell centers, but are not monotonically increasing or decreasing. This may lead to incorrectly calculated cell edges, in which case, please supply explicit cell edges to pcolormesh.\n",
      "  c = m_ax.pcolormesh(x, y, decadely_slopes_alpha_decade, cmap=cmap, norm=norm, shading=\"auto\")\n",
      "C:\\Users\\15523\\AppData\\Local\\Temp\\ipykernel_19284\\4026849795.py:52: UserWarning: This figure includes Axes that are not compatible with tight_layout, so results might be incorrect.\n",
      "  plt.tight_layout(rect=[0, 0, 0.9, 0.96])  # 留出空间给标题和颜色条\n",
      "C:\\Users\\15523\\AppData\\Local\\Temp\\ipykernel_19284\\4026849795.py:37: UserWarning: The input coordinates to pcolormesh are interpreted as cell centers, but are not monotonically increasing or decreasing. This may lead to incorrectly calculated cell edges, in which case, please supply explicit cell edges to pcolormesh.\n",
      "  c = m_ax.pcolormesh(x, y, decadely_slopes_alpha_decade, cmap=cmap, norm=norm, shading=\"auto\")\n",
      "C:\\Users\\15523\\AppData\\Local\\Temp\\ipykernel_19284\\4026849795.py:37: UserWarning: The input coordinates to pcolormesh are interpreted as cell centers, but are not monotonically increasing or decreasing. This may lead to incorrectly calculated cell edges, in which case, please supply explicit cell edges to pcolormesh.\n",
      "  c = m_ax.pcolormesh(x, y, decadely_slopes_alpha_decade, cmap=cmap, norm=norm, shading=\"auto\")\n",
      "C:\\Users\\15523\\AppData\\Local\\Temp\\ipykernel_19284\\4026849795.py:37: UserWarning: The input coordinates to pcolormesh are interpreted as cell centers, but are not monotonically increasing or decreasing. This may lead to incorrectly calculated cell edges, in which case, please supply explicit cell edges to pcolormesh.\n",
      "  c = m_ax.pcolormesh(x, y, decadely_slopes_alpha_decade, cmap=cmap, norm=norm, shading=\"auto\")\n",
      "C:\\Users\\15523\\AppData\\Local\\Temp\\ipykernel_19284\\4026849795.py:37: UserWarning: The input coordinates to pcolormesh are interpreted as cell centers, but are not monotonically increasing or decreasing. This may lead to incorrectly calculated cell edges, in which case, please supply explicit cell edges to pcolormesh.\n",
      "  c = m_ax.pcolormesh(x, y, decadely_slopes_alpha_decade, cmap=cmap, norm=norm, shading=\"auto\")\n",
      "C:\\Users\\15523\\AppData\\Local\\Temp\\ipykernel_19284\\4026849795.py:37: UserWarning: The input coordinates to pcolormesh are interpreted as cell centers, but are not monotonically increasing or decreasing. This may lead to incorrectly calculated cell edges, in which case, please supply explicit cell edges to pcolormesh.\n",
      "  c = m_ax.pcolormesh(x, y, decadely_slopes_alpha_decade, cmap=cmap, norm=norm, shading=\"auto\")\n",
      "C:\\Users\\15523\\AppData\\Local\\Temp\\ipykernel_19284\\4026849795.py:37: UserWarning: The input coordinates to pcolormesh are interpreted as cell centers, but are not monotonically increasing or decreasing. This may lead to incorrectly calculated cell edges, in which case, please supply explicit cell edges to pcolormesh.\n",
      "  c = m_ax.pcolormesh(x, y, decadely_slopes_alpha_decade, cmap=cmap, norm=norm, shading=\"auto\")\n",
      "C:\\Users\\15523\\AppData\\Local\\Temp\\ipykernel_19284\\4026849795.py:37: UserWarning: The input coordinates to pcolormesh are interpreted as cell centers, but are not monotonically increasing or decreasing. This may lead to incorrectly calculated cell edges, in which case, please supply explicit cell edges to pcolormesh.\n",
      "  c = m_ax.pcolormesh(x, y, decadely_slopes_alpha_decade, cmap=cmap, norm=norm, shading=\"auto\")\n",
      "C:\\Users\\15523\\AppData\\Local\\Temp\\ipykernel_19284\\4026849795.py:37: UserWarning: The input coordinates to pcolormesh are interpreted as cell centers, but are not monotonically increasing or decreasing. This may lead to incorrectly calculated cell edges, in which case, please supply explicit cell edges to pcolormesh.\n",
      "  c = m_ax.pcolormesh(x, y, decadely_slopes_alpha_decade, cmap=cmap, norm=norm, shading=\"auto\")\n",
      "C:\\Users\\15523\\AppData\\Local\\Temp\\ipykernel_19284\\4026849795.py:52: UserWarning: This figure includes Axes that are not compatible with tight_layout, so results might be incorrect.\n",
      "  plt.tight_layout(rect=[0, 0, 0.9, 0.96])  # 留出空间给标题和颜色条\n",
      "C:\\Users\\15523\\AppData\\Local\\Temp\\ipykernel_19284\\4026849795.py:37: UserWarning: The input coordinates to pcolormesh are interpreted as cell centers, but are not monotonically increasing or decreasing. This may lead to incorrectly calculated cell edges, in which case, please supply explicit cell edges to pcolormesh.\n",
      "  c = m_ax.pcolormesh(x, y, decadely_slopes_alpha_decade, cmap=cmap, norm=norm, shading=\"auto\")\n",
      "C:\\Users\\15523\\AppData\\Local\\Temp\\ipykernel_19284\\4026849795.py:37: UserWarning: The input coordinates to pcolormesh are interpreted as cell centers, but are not monotonically increasing or decreasing. This may lead to incorrectly calculated cell edges, in which case, please supply explicit cell edges to pcolormesh.\n",
      "  c = m_ax.pcolormesh(x, y, decadely_slopes_alpha_decade, cmap=cmap, norm=norm, shading=\"auto\")\n",
      "C:\\Users\\15523\\AppData\\Local\\Temp\\ipykernel_19284\\4026849795.py:37: UserWarning: The input coordinates to pcolormesh are interpreted as cell centers, but are not monotonically increasing or decreasing. This may lead to incorrectly calculated cell edges, in which case, please supply explicit cell edges to pcolormesh.\n",
      "  c = m_ax.pcolormesh(x, y, decadely_slopes_alpha_decade, cmap=cmap, norm=norm, shading=\"auto\")\n",
      "C:\\Users\\15523\\AppData\\Local\\Temp\\ipykernel_19284\\4026849795.py:37: UserWarning: The input coordinates to pcolormesh are interpreted as cell centers, but are not monotonically increasing or decreasing. This may lead to incorrectly calculated cell edges, in which case, please supply explicit cell edges to pcolormesh.\n",
      "  c = m_ax.pcolormesh(x, y, decadely_slopes_alpha_decade, cmap=cmap, norm=norm, shading=\"auto\")\n",
      "C:\\Users\\15523\\AppData\\Local\\Temp\\ipykernel_19284\\4026849795.py:37: UserWarning: The input coordinates to pcolormesh are interpreted as cell centers, but are not monotonically increasing or decreasing. This may lead to incorrectly calculated cell edges, in which case, please supply explicit cell edges to pcolormesh.\n",
      "  c = m_ax.pcolormesh(x, y, decadely_slopes_alpha_decade, cmap=cmap, norm=norm, shading=\"auto\")\n",
      "C:\\Users\\15523\\AppData\\Local\\Temp\\ipykernel_19284\\4026849795.py:37: UserWarning: The input coordinates to pcolormesh are interpreted as cell centers, but are not monotonically increasing or decreasing. This may lead to incorrectly calculated cell edges, in which case, please supply explicit cell edges to pcolormesh.\n",
      "  c = m_ax.pcolormesh(x, y, decadely_slopes_alpha_decade, cmap=cmap, norm=norm, shading=\"auto\")\n",
      "C:\\Users\\15523\\AppData\\Local\\Temp\\ipykernel_19284\\4026849795.py:37: UserWarning: The input coordinates to pcolormesh are interpreted as cell centers, but are not monotonically increasing or decreasing. This may lead to incorrectly calculated cell edges, in which case, please supply explicit cell edges to pcolormesh.\n",
      "  c = m_ax.pcolormesh(x, y, decadely_slopes_alpha_decade, cmap=cmap, norm=norm, shading=\"auto\")\n",
      "C:\\Users\\15523\\AppData\\Local\\Temp\\ipykernel_19284\\4026849795.py:37: UserWarning: The input coordinates to pcolormesh are interpreted as cell centers, but are not monotonically increasing or decreasing. This may lead to incorrectly calculated cell edges, in which case, please supply explicit cell edges to pcolormesh.\n",
      "  c = m_ax.pcolormesh(x, y, decadely_slopes_alpha_decade, cmap=cmap, norm=norm, shading=\"auto\")\n",
      "C:\\Users\\15523\\AppData\\Local\\Temp\\ipykernel_19284\\4026849795.py:52: UserWarning: This figure includes Axes that are not compatible with tight_layout, so results might be incorrect.\n",
      "  plt.tight_layout(rect=[0, 0, 0.9, 0.96])  # 留出空间给标题和颜色条\n"
     ]
    }
   ],
   "source": [
    "import matplotlib.pyplot as plt\n",
    "from mpl_toolkits.basemap import Basemap\n",
    "import matplotlib.colors as mcolors\n",
    "import numpy as np\n",
    "\n",
    "lons, lats = np.meshgrid(LONS, LATS)  # 生成规则网格\n",
    "\n",
    "# 假设已有：ALPHAS, overall_slopes, lats, lons\n",
    "\n",
    "for alpha_idx, alpha in enumerate(ALPHAS):\n",
    "    N_COLS = 4\n",
    "    N_ROWS = int(np.ceil(len(ALPHAS) / N_COLS))\n",
    "    fig, axes = plt.subplots(N_ROWS, N_COLS, figsize=(5 * N_COLS, 5 * N_ROWS), subplot_kw={'projection': None})\n",
    "\n",
    "    # 统一颜色归一化范围\n",
    "    slope_min = np.min(DECADELY_SLOPES[alpha_idx].flatten())\n",
    "    norm = mcolors.Normalize(vmin=-np.abs(slope_min), vmax=np.abs(slope_min))\n",
    "    cmap = \"coolwarm\"\n",
    "\n",
    "    # 将经纬度转换为 Basemap 使用的坐标\n",
    "    m = Basemap(projection=\"npstere\", boundinglat=60, lon_0=0, resolution=\"l\")\n",
    "    x, y = m(lons, lats)\n",
    "\n",
    "    # 如果 axes 只有一行，axes 需要转为二维数组统一处理\n",
    "    # axes = np.array(axes).reshape(-1, 2)\n",
    "\n",
    "    decadely_slopes_alpha = DECADELY_SLOPES[alpha_idx]\n",
    "\n",
    "    for decade_idx, decade in enumerate(DECADES[:-1]):\n",
    "        row_idx, col_idx = divmod(decade_idx, N_COLS)\n",
    "        ax = axes[row_idx, col_idx]\n",
    "        \n",
    "        m_ax = Basemap(projection=\"npstere\", boundinglat=60, lon_0=0, resolution=\"l\", ax=ax)\n",
    "        decadely_slopes_alpha_decade = decadely_slopes_alpha[decade_idx]\n",
    "\n",
    "        x, y = m_ax(lons, lats)\n",
    "        c = m_ax.pcolormesh(x, y, decadely_slopes_alpha_decade, cmap=cmap, norm=norm, shading=\"auto\")\n",
    "\n",
    "        m_ax.drawcoastlines()\n",
    "        m_ax.drawcountries()\n",
    "        m_ax.drawparallels(np.arange(60, 91, 10))\n",
    "        m_ax.drawmeridians(np.arange(-180, 181, 30))\n",
    "\n",
    "        ax.set_title(f\"{decade}s\")\n",
    "\n",
    "    # 添加共享颜色条\n",
    "    cbar_ax = fig.add_axes([0.92, 0.15, 0.02, 0.7])  # [left, bottom, width, height]\n",
    "    fig.colorbar(c, cax=cbar_ax, ticks=[-np.abs(slope_min), 0, np.abs(slope_min)], orientation='vertical')\n",
    "    cbar_ax.set_ylabel(\"°C/year\")\n",
    "\n",
    "    fig.suptitle(\"Yearly increase of 2m temperature percentiles (°C/yr) for alpha = {:.2f}\".format(alpha), fontsize=16, y=0.95)\n",
    "    plt.tight_layout(rect=[0, 0, 0.9, 0.96])  # 留出空间给标题和颜色条\n",
    "    \n",
    "    fig.savefig(r\"C:\\SUSTech\\datasets_of_graduation_project\\hetero_outputs\\fig_outputs\\dt0sa\\heatmaps_of_2mtemp_annual\" + str(alpha) + \".png\", dpi=300, bbox_inches='tight')\n",
    "    plt.close(fig)  # 关闭图形以释放内存"
   ]
  },
  {
   "cell_type": "code",
   "execution_count": 4,
   "metadata": {},
   "outputs": [
    {
     "data": {
      "text/plain": [
       "array([ 0.00612109,  0.00738877,  0.00010487, -0.00909202, -0.00669963,\n",
       "        0.00431482, -0.01037191, -0.00882957], dtype=float32)"
      ]
     },
     "execution_count": 4,
     "metadata": {},
     "output_type": "execute_result"
    }
   ],
   "source": [
    "DECADELY_SLOPES[0, :, 0, 0]"
   ]
  },
  {
   "cell_type": "code",
   "execution_count": 5,
   "metadata": {},
   "outputs": [
    {
     "name": "stdout",
     "output_type": "stream",
     "text": [
      "-0.5050644\n",
      "-0.4844094\n",
      "-0.6382792\n",
      "-0.9792903\n",
      "-1.2086023\n"
     ]
    }
   ],
   "source": [
    "print(np.min(DECADELY_SLOPES[0].flatten()))\n",
    "print(np.min(DECADELY_SLOPES[1].flatten()))\n",
    "print(np.min(DECADELY_SLOPES[2].flatten()))\n",
    "print(np.min(DECADELY_SLOPES[3].flatten()))\n",
    "print(np.min(DECADELY_SLOPES[4].flatten()))"
   ]
  },
  {
   "cell_type": "code",
   "execution_count": null,
   "metadata": {},
   "outputs": [],
   "source": []
  },
  {
   "cell_type": "code",
   "execution_count": null,
   "metadata": {},
   "outputs": [],
   "source": []
  },
  {
   "cell_type": "code",
   "execution_count": null,
   "metadata": {},
   "outputs": [],
   "source": []
  }
 ],
 "metadata": {
  "kernelspec": {
   "display_name": "base",
   "language": "python",
   "name": "python3"
  },
  "language_info": {
   "codemirror_mode": {
    "name": "ipython",
    "version": 3
   },
   "file_extension": ".py",
   "mimetype": "text/x-python",
   "name": "python",
   "nbconvert_exporter": "python",
   "pygments_lexer": "ipython3",
   "version": "3.11.3"
  }
 },
 "nbformat": 4,
 "nbformat_minor": 2
}
