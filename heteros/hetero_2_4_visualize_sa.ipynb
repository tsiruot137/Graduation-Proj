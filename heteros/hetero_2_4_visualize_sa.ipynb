{
 "cells": [
  {
   "cell_type": "markdown",
   "metadata": {},
   "source": [
    "This notebook follows from the file `hetero_2_3_analyse_the_annual_ts.py`.\n",
    "# Read the data"
   ]
  },
  {
   "cell_type": "code",
   "execution_count": 1,
   "metadata": {},
   "outputs": [
    {
     "name": "stdout",
     "output_type": "stream",
     "text": [
      "The shape of slopes is: (len(ALPHAS), len(LATS), len(LONS)) = (5, 60, 144)\n"
     ]
    }
   ],
   "source": [
    "import h5py\n",
    "import numpy as np\n",
    "\n",
    "filename = r\"C:\\SUSTech\\datasets_of_graduation_project\\hetero_outputs\\overall_slopes.h5\"\n",
    "\n",
    "with h5py.File(filename, 'r') as f:\n",
    "    ALPHAS = f['alphas'][:]\n",
    "    LATS = f['latitudes'][:]\n",
    "    LONS = f['longitudes'][:]\n",
    "    overall_slopes = f['overall_slopes'][:]\n",
    "    \n",
    "print(\"The shape of slopes is: (len(ALPHAS), len(LATS), len(LONS)) = ({}, {}, {})\".format(len(ALPHAS), len(LATS), len(LONS)))"
   ]
  },
  {
   "cell_type": "markdown",
   "metadata": {},
   "source": [
    "# Visualizations"
   ]
  },
  {
   "cell_type": "code",
   "execution_count": 2,
   "metadata": {},
   "outputs": [
    {
     "data": {
      "text/plain": [
       "array([[-0.0019521 , -0.0019521 , -0.0019521 , ..., -0.0019521 ,\n",
       "        -0.0019521 , -0.0019521 ],\n",
       "       [-0.00214466, -0.0020929 , -0.00205344, ..., -0.0022859 ,\n",
       "        -0.00223436, -0.00214973],\n",
       "       [-0.00226336, -0.00214284, -0.00212462, ..., -0.00205674,\n",
       "        -0.00215474, -0.00225785],\n",
       "       ...,\n",
       "       [ 0.01950992,  0.01846384,  0.01704028, ...,  0.02045832,\n",
       "         0.02283233,  0.01954606],\n",
       "       [ 0.01884934,  0.01751255,  0.01802557, ...,  0.02373199,\n",
       "         0.02165574,  0.018789  ],\n",
       "       [ 0.01815735,  0.01608545,  0.0165155 , ...,  0.02377413,\n",
       "         0.02064434,  0.01833357]], dtype=float32)"
      ]
     },
     "execution_count": 2,
     "metadata": {},
     "output_type": "execute_result"
    }
   ],
   "source": [
    "overall_slopes[0]"
   ]
  },
  {
   "cell_type": "code",
   "execution_count": null,
   "metadata": {},
   "outputs": [],
   "source": [
    "import numpy as np\n",
    "import matplotlib.pyplot as plt\n",
    "from mpl_toolkits.basemap import Basemap\n",
    "import matplotlib.colors as mcolors  # 颜色归一化\n",
    "\n",
    "# 生成规则网格数据（LATS, LONS 笛卡尔积）\n",
    "lons, lats = np.meshgrid(LONS, LATS)  # 生成规则网格\n",
    "\n",
    "for alpha_idx, alpha in enumerate(ALPHAS):\n",
    "\n",
    "    overall_slopes_alpha = overall_slopes[alpha_idx]  \n",
    "    slope_min, slope_max = np.min(overall_slopes_alpha.flatten()), np.max(overall_slopes_alpha.flatten())\n",
    "    print(\"The min and max of slopes are: \", slope_min, slope_max)\n",
    "\n",
    "    # 创建北极投影地图\n",
    "    fig, ax = plt.subplots(figsize=(8, 8))\n",
    "    m = Basemap(projection=\"npstere\", boundinglat=60, lon_0=0, resolution=\"l\", ax=ax)\n",
    "\n",
    "    # 转换网格点到投影坐标（Basemap 需要 x, y 坐标）\n",
    "    x, y = m(lons, lats)\n",
    "\n",
    "    # slope_abs_max = max(abs(slope_min), abs(slope_max))\n",
    "    # norm = mcolors.Normalize(vmin=-slope_abs_max, vmax=slope_abs_max)  # 颜色归一化\n",
    "    slope_abs_min = min(abs(slope_min), abs(slope_max))\n",
    "    norm = mcolors.Normalize(vmin=-slope_abs_min, vmax=slope_abs_min)  # 颜色归一化\n",
    "\n",
    "    # 绘制热力图\n",
    "    c = m.pcolormesh(x, y, overall_slopes_alpha, cmap=\"coolwarm\", norm=norm, shading=\"auto\")\n",
    "\n",
    "    # 绘制地图元素\n",
    "    m.drawcoastlines()\n",
    "    m.drawcountries()\n",
    "    m.drawparallels(np.arange(60, 91, 10), labels=[True, True, False, False])\n",
    "    m.drawmeridians(np.arange(-180, 181, 30), labels=[False, False, False, True])\n",
    "\n",
    "    # 添加颜色条，并设置范围\n",
    "    cb = plt.colorbar(c)\n",
    "    # cb.set_ticks([-slope_abs_max, 0, slope_abs_max])\n",
    "    cb.set_ticks([-slope_abs_min, 0, slope_abs_min])\n",
    "\n",
    "    # 标题\n",
    "    plt.title(\"Yearly increase of \" + str(alpha) + \"th percentile of 2m temp (°C/yr)\")\n",
    "\n",
    "    fig.savefig(r\"C:\\SUSTech\\datasets_of_graduation_project\\hetero_outputs\\fig_outputs\\sa\\heatmap_of_2mtemp_annual\" + str(alpha) + \".png\", dpi=300)\n",
    "    plt.close(fig)  # 关闭图形以释放内存"
   ]
  },
  {
   "cell_type": "code",
   "execution_count": null,
   "metadata": {},
   "outputs": [],
   "source": []
  },
  {
   "cell_type": "code",
   "execution_count": null,
   "metadata": {},
   "outputs": [],
   "source": []
  },
  {
   "cell_type": "code",
   "execution_count": null,
   "metadata": {},
   "outputs": [],
   "source": []
  },
  {
   "cell_type": "code",
   "execution_count": null,
   "metadata": {},
   "outputs": [],
   "source": []
  }
 ],
 "metadata": {
  "kernelspec": {
   "display_name": "base",
   "language": "python",
   "name": "python3"
  },
  "language_info": {
   "codemirror_mode": {
    "name": "ipython",
    "version": 3
   },
   "file_extension": ".py",
   "mimetype": "text/x-python",
   "name": "python",
   "nbconvert_exporter": "python",
   "pygments_lexer": "ipython3",
   "version": "3.11.3"
  }
 },
 "nbformat": 4,
 "nbformat_minor": 2
}
