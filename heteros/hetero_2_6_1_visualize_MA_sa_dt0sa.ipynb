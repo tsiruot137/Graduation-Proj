{
 "cells": [
  {
   "cell_type": "markdown",
   "id": "6a638676",
   "metadata": {},
   "source": [
    "This notebook follows from the file `hetero_2_6_analyse_the_annual_ts_MA.py`.\n",
    "The visualisation consists of two parts:\n",
    "+ Part 1: (sa) $\\int t s\\alpha = sa$, i.e. the overall slopes of linear regression.\n",
    "+ Part 2: (dt0sa) $\\Delta t_0 s\\alpha$, i.e. the decadely slopes of linear regression.\n",
    "# Overall slopes (sa)\n",
    "## Read the data"
   ]
  },
  {
   "cell_type": "code",
   "execution_count": 10,
   "id": "3b732545",
   "metadata": {},
   "outputs": [
    {
     "name": "stdout",
     "output_type": "stream",
     "text": [
      "The shape of slopes is: (len(ALPHAS), len(LATS), len(LONS)) = (5, 60, 144)\n"
     ]
    }
   ],
   "source": [
    "import h5py\n",
    "import numpy as np\n",
    "\n",
    "filename = r\"C:\\SUSTech\\datasets_of_graduation_project\\hetero_outputs\\overall_slopes_MA.h5\"\n",
    "\n",
    "with h5py.File(filename, 'r') as f:\n",
    "    ALPHAS = f['alphas'][:]\n",
    "    LATS = f['latitudes'][:]\n",
    "    LONS = f['longitudes'][:]\n",
    "    OVERALL_SLOPES_MA = f['overall_slopes_ma'][:]\n",
    "    WINDOW_SIZE = f['window_size'][()]\n",
    "    \n",
    "print(\"The shape of slopes is: (len(ALPHAS), len(LATS), len(LONS)) =\", OVERALL_SLOPES_MA.shape)"
   ]
  },
  {
   "cell_type": "markdown",
   "id": "9e6c038d",
   "metadata": {},
   "source": [
    "## Visualizations"
   ]
  },
  {
   "cell_type": "code",
   "execution_count": 11,
   "id": "a5b76bdd",
   "metadata": {},
   "outputs": [
    {
     "data": {
      "text/plain": [
       "array([[-0.00232498, -0.00232498, -0.00232498, ..., -0.00232498,\n",
       "        -0.00232498, -0.00232498],\n",
       "       [-0.00253659, -0.00248664, -0.00245223, ..., -0.00271619,\n",
       "        -0.00264877, -0.00254275],\n",
       "       [-0.00261107, -0.00250348, -0.00252006, ..., -0.0023724 ,\n",
       "        -0.00247555, -0.00260543],\n",
       "       ...,\n",
       "       [ 0.01891226,  0.01923745,  0.01803606, ...,  0.01911088,\n",
       "         0.02219915,  0.0190386 ],\n",
       "       [ 0.01947295,  0.01819355,  0.01885891, ...,  0.02329166,\n",
       "         0.02166919,  0.01929254],\n",
       "       [ 0.01946475,  0.0168508 ,  0.01691016, ...,  0.02412667,\n",
       "         0.02106962,  0.01946004]], dtype=float32)"
      ]
     },
     "execution_count": 11,
     "metadata": {},
     "output_type": "execute_result"
    }
   ],
   "source": [
    "OVERALL_SLOPES_MA[0]"
   ]
  },
  {
   "cell_type": "code",
   "execution_count": 12,
   "id": "d709f64e",
   "metadata": {},
   "outputs": [
    {
     "name": "stdout",
     "output_type": "stream",
     "text": [
      "The min and max of slopes are:  -0.013739939 0.19208832\n"
     ]
    },
    {
     "name": "stderr",
     "output_type": "stream",
     "text": [
      "C:\\Users\\15523\\AppData\\Local\\Temp\\ipykernel_10992\\3587818794.py:28: UserWarning: The input coordinates to pcolormesh are interpreted as cell centers, but are not monotonically increasing or decreasing. This may lead to incorrectly calculated cell edges, in which case, please supply explicit cell edges to pcolormesh.\n",
      "  c = m.pcolormesh(x, y, overall_slopes_alpha, cmap=\"coolwarm\", norm=norm, shading=\"auto\")\n"
     ]
    },
    {
     "name": "stdout",
     "output_type": "stream",
     "text": [
      "The min and max of slopes are:  0.0008130458 0.15693904\n"
     ]
    },
    {
     "name": "stderr",
     "output_type": "stream",
     "text": [
      "C:\\Users\\15523\\AppData\\Local\\Temp\\ipykernel_10992\\3587818794.py:28: UserWarning: The input coordinates to pcolormesh are interpreted as cell centers, but are not monotonically increasing or decreasing. This may lead to incorrectly calculated cell edges, in which case, please supply explicit cell edges to pcolormesh.\n",
      "  c = m.pcolormesh(x, y, overall_slopes_alpha, cmap=\"coolwarm\", norm=norm, shading=\"auto\")\n"
     ]
    },
    {
     "name": "stdout",
     "output_type": "stream",
     "text": [
      "The min and max of slopes are:  -0.0039527593 0.12147089\n"
     ]
    },
    {
     "name": "stderr",
     "output_type": "stream",
     "text": [
      "C:\\Users\\15523\\AppData\\Local\\Temp\\ipykernel_10992\\3587818794.py:28: UserWarning: The input coordinates to pcolormesh are interpreted as cell centers, but are not monotonically increasing or decreasing. This may lead to incorrectly calculated cell edges, in which case, please supply explicit cell edges to pcolormesh.\n",
      "  c = m.pcolormesh(x, y, overall_slopes_alpha, cmap=\"coolwarm\", norm=norm, shading=\"auto\")\n"
     ]
    },
    {
     "name": "stdout",
     "output_type": "stream",
     "text": [
      "The min and max of slopes are:  -0.034568343 0.20452999\n"
     ]
    },
    {
     "name": "stderr",
     "output_type": "stream",
     "text": [
      "C:\\Users\\15523\\AppData\\Local\\Temp\\ipykernel_10992\\3587818794.py:28: UserWarning: The input coordinates to pcolormesh are interpreted as cell centers, but are not monotonically increasing or decreasing. This may lead to incorrectly calculated cell edges, in which case, please supply explicit cell edges to pcolormesh.\n",
      "  c = m.pcolormesh(x, y, overall_slopes_alpha, cmap=\"coolwarm\", norm=norm, shading=\"auto\")\n"
     ]
    },
    {
     "name": "stdout",
     "output_type": "stream",
     "text": [
      "The min and max of slopes are:  -0.044784915 0.25953367\n"
     ]
    },
    {
     "name": "stderr",
     "output_type": "stream",
     "text": [
      "C:\\Users\\15523\\AppData\\Local\\Temp\\ipykernel_10992\\3587818794.py:28: UserWarning: The input coordinates to pcolormesh are interpreted as cell centers, but are not monotonically increasing or decreasing. This may lead to incorrectly calculated cell edges, in which case, please supply explicit cell edges to pcolormesh.\n",
      "  c = m.pcolormesh(x, y, overall_slopes_alpha, cmap=\"coolwarm\", norm=norm, shading=\"auto\")\n"
     ]
    }
   ],
   "source": [
    "import numpy as np\n",
    "import matplotlib.pyplot as plt\n",
    "from mpl_toolkits.basemap import Basemap\n",
    "import matplotlib.colors as mcolors  # 颜色归一化\n",
    "\n",
    "# 生成规则网格数据（LATS, LONS 笛卡尔积）\n",
    "lons, lats = np.meshgrid(LONS, LATS)  # 生成规则网格\n",
    "\n",
    "for alpha_idx, alpha in enumerate(ALPHAS):\n",
    "\n",
    "    overall_slopes_alpha = OVERALL_SLOPES_MA[alpha_idx]  \n",
    "    slope_min, slope_max = np.min(overall_slopes_alpha.flatten()), np.max(overall_slopes_alpha.flatten())\n",
    "    print(\"The min and max of slopes are: \", slope_min, slope_max)\n",
    "\n",
    "    # 创建北极投影地图\n",
    "    fig, ax = plt.subplots(figsize=(8, 8))\n",
    "    m = Basemap(projection=\"npstere\", boundinglat=60, lon_0=0, resolution=\"l\", ax=ax)\n",
    "\n",
    "    # 转换网格点到投影坐标（Basemap 需要 x, y 坐标）\n",
    "    x, y = m(lons, lats)\n",
    "\n",
    "    # slope_abs_max = max(abs(slope_min), abs(slope_max))\n",
    "    # norm = mcolors.Normalize(vmin=-slope_abs_max, vmax=slope_abs_max)  # 颜色归一化\n",
    "    slope_abs_min = min(abs(slope_min), abs(slope_max))\n",
    "    norm = mcolors.Normalize(vmin=-slope_abs_min, vmax=slope_abs_min)  # 颜色归一化\n",
    "\n",
    "    # 绘制热力图\n",
    "    c = m.pcolormesh(x, y, overall_slopes_alpha, cmap=\"coolwarm\", norm=norm, shading=\"auto\")\n",
    "\n",
    "    # 绘制地图元素\n",
    "    m.drawcoastlines()\n",
    "    m.drawcountries()\n",
    "    m.drawparallels(np.arange(60, 91, 10), labels=[True, True, False, False])\n",
    "    m.drawmeridians(np.arange(-180, 181, 30), labels=[False, False, False, True])\n",
    "\n",
    "    # 添加颜色条，并设置范围\n",
    "    cb = plt.colorbar(c)\n",
    "    # cb.set_ticks([-slope_abs_max, 0, slope_abs_max])\n",
    "    cb.set_ticks([-slope_abs_min, 0, slope_abs_min])\n",
    "\n",
    "    # 标题\n",
    "    plt.title(\"Yearly increase of \" + str(alpha) + \"th percentile of 2m temp (°C/yr)\")\n",
    "\n",
    "    fig.savefig(r\"C:\\SUSTech\\datasets_of_graduation_project\\hetero_outputs\\fig_outputs\\sa\\heatmap_of_2mtemp_annual\" + str(alpha) + \"_MA.png\", dpi=300)\n",
    "    plt.close(fig)  # 关闭当前图形，释放内存"
   ]
  },
  {
   "cell_type": "markdown",
   "id": "75bebaae",
   "metadata": {},
   "source": [
    "# Decadely slopes\n",
    "## Read the data"
   ]
  },
  {
   "cell_type": "code",
   "execution_count": 13,
   "id": "3fbe74d2",
   "metadata": {},
   "outputs": [
    {
     "name": "stdout",
     "output_type": "stream",
     "text": [
      "The shape of slopes is: (len(ALPHAS), len(DECADES), len(LATS), len(LONS)) = (5, 7, 60, 144)\n"
     ]
    }
   ],
   "source": [
    "import h5py\n",
    "import numpy as np\n",
    "\n",
    "filename = r\"C:\\SUSTech\\datasets_of_graduation_project\\hetero_outputs\\decadely_slopes_MA.h5\"\n",
    "\n",
    "with h5py.File(filename, 'r') as f:\n",
    "    ALPHAS = f['alphas'][:]\n",
    "    DECADES = f['decades'][:]\n",
    "    LATS = f['latitudes'][:]\n",
    "    LONS = f['longitudes'][:]\n",
    "    DECADELY_SLOPES_MA = f['decadely_slopes_ma'][:]\n",
    "    \n",
    "print(\"The shape of slopes is: (len(ALPHAS), len(DECADES), len(LATS), len(LONS)) =\", DECADELY_SLOPES_MA.shape)"
   ]
  },
  {
   "cell_type": "markdown",
   "id": "4741cb05",
   "metadata": {},
   "source": [
    "# Visualizations"
   ]
  },
  {
   "cell_type": "code",
   "execution_count": 14,
   "id": "e56118b8",
   "metadata": {},
   "outputs": [
    {
     "name": "stderr",
     "output_type": "stream",
     "text": [
      "C:\\Users\\15523\\AppData\\Local\\Temp\\ipykernel_10992\\2690943043.py:37: UserWarning: The input coordinates to pcolormesh are interpreted as cell centers, but are not monotonically increasing or decreasing. This may lead to incorrectly calculated cell edges, in which case, please supply explicit cell edges to pcolormesh.\n",
      "  c = m_ax.pcolormesh(x, y, decadely_slopes_alpha_decade, cmap=cmap, norm=norm, shading=\"auto\")\n",
      "C:\\Users\\15523\\AppData\\Local\\Temp\\ipykernel_10992\\2690943043.py:37: UserWarning: The input coordinates to pcolormesh are interpreted as cell centers, but are not monotonically increasing or decreasing. This may lead to incorrectly calculated cell edges, in which case, please supply explicit cell edges to pcolormesh.\n",
      "  c = m_ax.pcolormesh(x, y, decadely_slopes_alpha_decade, cmap=cmap, norm=norm, shading=\"auto\")\n",
      "C:\\Users\\15523\\AppData\\Local\\Temp\\ipykernel_10992\\2690943043.py:37: UserWarning: The input coordinates to pcolormesh are interpreted as cell centers, but are not monotonically increasing or decreasing. This may lead to incorrectly calculated cell edges, in which case, please supply explicit cell edges to pcolormesh.\n",
      "  c = m_ax.pcolormesh(x, y, decadely_slopes_alpha_decade, cmap=cmap, norm=norm, shading=\"auto\")\n",
      "C:\\Users\\15523\\AppData\\Local\\Temp\\ipykernel_10992\\2690943043.py:37: UserWarning: The input coordinates to pcolormesh are interpreted as cell centers, but are not monotonically increasing or decreasing. This may lead to incorrectly calculated cell edges, in which case, please supply explicit cell edges to pcolormesh.\n",
      "  c = m_ax.pcolormesh(x, y, decadely_slopes_alpha_decade, cmap=cmap, norm=norm, shading=\"auto\")\n",
      "C:\\Users\\15523\\AppData\\Local\\Temp\\ipykernel_10992\\2690943043.py:37: UserWarning: The input coordinates to pcolormesh are interpreted as cell centers, but are not monotonically increasing or decreasing. This may lead to incorrectly calculated cell edges, in which case, please supply explicit cell edges to pcolormesh.\n",
      "  c = m_ax.pcolormesh(x, y, decadely_slopes_alpha_decade, cmap=cmap, norm=norm, shading=\"auto\")\n",
      "C:\\Users\\15523\\AppData\\Local\\Temp\\ipykernel_10992\\2690943043.py:37: UserWarning: The input coordinates to pcolormesh are interpreted as cell centers, but are not monotonically increasing or decreasing. This may lead to incorrectly calculated cell edges, in which case, please supply explicit cell edges to pcolormesh.\n",
      "  c = m_ax.pcolormesh(x, y, decadely_slopes_alpha_decade, cmap=cmap, norm=norm, shading=\"auto\")\n",
      "C:\\Users\\15523\\AppData\\Local\\Temp\\ipykernel_10992\\2690943043.py:37: UserWarning: The input coordinates to pcolormesh are interpreted as cell centers, but are not monotonically increasing or decreasing. This may lead to incorrectly calculated cell edges, in which case, please supply explicit cell edges to pcolormesh.\n",
      "  c = m_ax.pcolormesh(x, y, decadely_slopes_alpha_decade, cmap=cmap, norm=norm, shading=\"auto\")\n",
      "C:\\Users\\15523\\AppData\\Local\\Temp\\ipykernel_10992\\2690943043.py:52: UserWarning: This figure includes Axes that are not compatible with tight_layout, so results might be incorrect.\n",
      "  plt.tight_layout(rect=[0, 0, 0.9, 0.96])  # 留出空间给标题和颜色条\n",
      "C:\\Users\\15523\\AppData\\Local\\Temp\\ipykernel_10992\\2690943043.py:37: UserWarning: The input coordinates to pcolormesh are interpreted as cell centers, but are not monotonically increasing or decreasing. This may lead to incorrectly calculated cell edges, in which case, please supply explicit cell edges to pcolormesh.\n",
      "  c = m_ax.pcolormesh(x, y, decadely_slopes_alpha_decade, cmap=cmap, norm=norm, shading=\"auto\")\n",
      "C:\\Users\\15523\\AppData\\Local\\Temp\\ipykernel_10992\\2690943043.py:37: UserWarning: The input coordinates to pcolormesh are interpreted as cell centers, but are not monotonically increasing or decreasing. This may lead to incorrectly calculated cell edges, in which case, please supply explicit cell edges to pcolormesh.\n",
      "  c = m_ax.pcolormesh(x, y, decadely_slopes_alpha_decade, cmap=cmap, norm=norm, shading=\"auto\")\n",
      "C:\\Users\\15523\\AppData\\Local\\Temp\\ipykernel_10992\\2690943043.py:37: UserWarning: The input coordinates to pcolormesh are interpreted as cell centers, but are not monotonically increasing or decreasing. This may lead to incorrectly calculated cell edges, in which case, please supply explicit cell edges to pcolormesh.\n",
      "  c = m_ax.pcolormesh(x, y, decadely_slopes_alpha_decade, cmap=cmap, norm=norm, shading=\"auto\")\n",
      "C:\\Users\\15523\\AppData\\Local\\Temp\\ipykernel_10992\\2690943043.py:37: UserWarning: The input coordinates to pcolormesh are interpreted as cell centers, but are not monotonically increasing or decreasing. This may lead to incorrectly calculated cell edges, in which case, please supply explicit cell edges to pcolormesh.\n",
      "  c = m_ax.pcolormesh(x, y, decadely_slopes_alpha_decade, cmap=cmap, norm=norm, shading=\"auto\")\n",
      "C:\\Users\\15523\\AppData\\Local\\Temp\\ipykernel_10992\\2690943043.py:37: UserWarning: The input coordinates to pcolormesh are interpreted as cell centers, but are not monotonically increasing or decreasing. This may lead to incorrectly calculated cell edges, in which case, please supply explicit cell edges to pcolormesh.\n",
      "  c = m_ax.pcolormesh(x, y, decadely_slopes_alpha_decade, cmap=cmap, norm=norm, shading=\"auto\")\n",
      "C:\\Users\\15523\\AppData\\Local\\Temp\\ipykernel_10992\\2690943043.py:37: UserWarning: The input coordinates to pcolormesh are interpreted as cell centers, but are not monotonically increasing or decreasing. This may lead to incorrectly calculated cell edges, in which case, please supply explicit cell edges to pcolormesh.\n",
      "  c = m_ax.pcolormesh(x, y, decadely_slopes_alpha_decade, cmap=cmap, norm=norm, shading=\"auto\")\n",
      "C:\\Users\\15523\\AppData\\Local\\Temp\\ipykernel_10992\\2690943043.py:37: UserWarning: The input coordinates to pcolormesh are interpreted as cell centers, but are not monotonically increasing or decreasing. This may lead to incorrectly calculated cell edges, in which case, please supply explicit cell edges to pcolormesh.\n",
      "  c = m_ax.pcolormesh(x, y, decadely_slopes_alpha_decade, cmap=cmap, norm=norm, shading=\"auto\")\n",
      "C:\\Users\\15523\\AppData\\Local\\Temp\\ipykernel_10992\\2690943043.py:52: UserWarning: This figure includes Axes that are not compatible with tight_layout, so results might be incorrect.\n",
      "  plt.tight_layout(rect=[0, 0, 0.9, 0.96])  # 留出空间给标题和颜色条\n",
      "C:\\Users\\15523\\AppData\\Local\\Temp\\ipykernel_10992\\2690943043.py:37: UserWarning: The input coordinates to pcolormesh are interpreted as cell centers, but are not monotonically increasing or decreasing. This may lead to incorrectly calculated cell edges, in which case, please supply explicit cell edges to pcolormesh.\n",
      "  c = m_ax.pcolormesh(x, y, decadely_slopes_alpha_decade, cmap=cmap, norm=norm, shading=\"auto\")\n",
      "C:\\Users\\15523\\AppData\\Local\\Temp\\ipykernel_10992\\2690943043.py:37: UserWarning: The input coordinates to pcolormesh are interpreted as cell centers, but are not monotonically increasing or decreasing. This may lead to incorrectly calculated cell edges, in which case, please supply explicit cell edges to pcolormesh.\n",
      "  c = m_ax.pcolormesh(x, y, decadely_slopes_alpha_decade, cmap=cmap, norm=norm, shading=\"auto\")\n",
      "C:\\Users\\15523\\AppData\\Local\\Temp\\ipykernel_10992\\2690943043.py:37: UserWarning: The input coordinates to pcolormesh are interpreted as cell centers, but are not monotonically increasing or decreasing. This may lead to incorrectly calculated cell edges, in which case, please supply explicit cell edges to pcolormesh.\n",
      "  c = m_ax.pcolormesh(x, y, decadely_slopes_alpha_decade, cmap=cmap, norm=norm, shading=\"auto\")\n",
      "C:\\Users\\15523\\AppData\\Local\\Temp\\ipykernel_10992\\2690943043.py:37: UserWarning: The input coordinates to pcolormesh are interpreted as cell centers, but are not monotonically increasing or decreasing. This may lead to incorrectly calculated cell edges, in which case, please supply explicit cell edges to pcolormesh.\n",
      "  c = m_ax.pcolormesh(x, y, decadely_slopes_alpha_decade, cmap=cmap, norm=norm, shading=\"auto\")\n",
      "C:\\Users\\15523\\AppData\\Local\\Temp\\ipykernel_10992\\2690943043.py:37: UserWarning: The input coordinates to pcolormesh are interpreted as cell centers, but are not monotonically increasing or decreasing. This may lead to incorrectly calculated cell edges, in which case, please supply explicit cell edges to pcolormesh.\n",
      "  c = m_ax.pcolormesh(x, y, decadely_slopes_alpha_decade, cmap=cmap, norm=norm, shading=\"auto\")\n",
      "C:\\Users\\15523\\AppData\\Local\\Temp\\ipykernel_10992\\2690943043.py:37: UserWarning: The input coordinates to pcolormesh are interpreted as cell centers, but are not monotonically increasing or decreasing. This may lead to incorrectly calculated cell edges, in which case, please supply explicit cell edges to pcolormesh.\n",
      "  c = m_ax.pcolormesh(x, y, decadely_slopes_alpha_decade, cmap=cmap, norm=norm, shading=\"auto\")\n",
      "C:\\Users\\15523\\AppData\\Local\\Temp\\ipykernel_10992\\2690943043.py:37: UserWarning: The input coordinates to pcolormesh are interpreted as cell centers, but are not monotonically increasing or decreasing. This may lead to incorrectly calculated cell edges, in which case, please supply explicit cell edges to pcolormesh.\n",
      "  c = m_ax.pcolormesh(x, y, decadely_slopes_alpha_decade, cmap=cmap, norm=norm, shading=\"auto\")\n",
      "C:\\Users\\15523\\AppData\\Local\\Temp\\ipykernel_10992\\2690943043.py:52: UserWarning: This figure includes Axes that are not compatible with tight_layout, so results might be incorrect.\n",
      "  plt.tight_layout(rect=[0, 0, 0.9, 0.96])  # 留出空间给标题和颜色条\n",
      "C:\\Users\\15523\\AppData\\Local\\Temp\\ipykernel_10992\\2690943043.py:37: UserWarning: The input coordinates to pcolormesh are interpreted as cell centers, but are not monotonically increasing or decreasing. This may lead to incorrectly calculated cell edges, in which case, please supply explicit cell edges to pcolormesh.\n",
      "  c = m_ax.pcolormesh(x, y, decadely_slopes_alpha_decade, cmap=cmap, norm=norm, shading=\"auto\")\n",
      "C:\\Users\\15523\\AppData\\Local\\Temp\\ipykernel_10992\\2690943043.py:37: UserWarning: The input coordinates to pcolormesh are interpreted as cell centers, but are not monotonically increasing or decreasing. This may lead to incorrectly calculated cell edges, in which case, please supply explicit cell edges to pcolormesh.\n",
      "  c = m_ax.pcolormesh(x, y, decadely_slopes_alpha_decade, cmap=cmap, norm=norm, shading=\"auto\")\n",
      "C:\\Users\\15523\\AppData\\Local\\Temp\\ipykernel_10992\\2690943043.py:37: UserWarning: The input coordinates to pcolormesh are interpreted as cell centers, but are not monotonically increasing or decreasing. This may lead to incorrectly calculated cell edges, in which case, please supply explicit cell edges to pcolormesh.\n",
      "  c = m_ax.pcolormesh(x, y, decadely_slopes_alpha_decade, cmap=cmap, norm=norm, shading=\"auto\")\n",
      "C:\\Users\\15523\\AppData\\Local\\Temp\\ipykernel_10992\\2690943043.py:37: UserWarning: The input coordinates to pcolormesh are interpreted as cell centers, but are not monotonically increasing or decreasing. This may lead to incorrectly calculated cell edges, in which case, please supply explicit cell edges to pcolormesh.\n",
      "  c = m_ax.pcolormesh(x, y, decadely_slopes_alpha_decade, cmap=cmap, norm=norm, shading=\"auto\")\n",
      "C:\\Users\\15523\\AppData\\Local\\Temp\\ipykernel_10992\\2690943043.py:37: UserWarning: The input coordinates to pcolormesh are interpreted as cell centers, but are not monotonically increasing or decreasing. This may lead to incorrectly calculated cell edges, in which case, please supply explicit cell edges to pcolormesh.\n",
      "  c = m_ax.pcolormesh(x, y, decadely_slopes_alpha_decade, cmap=cmap, norm=norm, shading=\"auto\")\n",
      "C:\\Users\\15523\\AppData\\Local\\Temp\\ipykernel_10992\\2690943043.py:37: UserWarning: The input coordinates to pcolormesh are interpreted as cell centers, but are not monotonically increasing or decreasing. This may lead to incorrectly calculated cell edges, in which case, please supply explicit cell edges to pcolormesh.\n",
      "  c = m_ax.pcolormesh(x, y, decadely_slopes_alpha_decade, cmap=cmap, norm=norm, shading=\"auto\")\n",
      "C:\\Users\\15523\\AppData\\Local\\Temp\\ipykernel_10992\\2690943043.py:37: UserWarning: The input coordinates to pcolormesh are interpreted as cell centers, but are not monotonically increasing or decreasing. This may lead to incorrectly calculated cell edges, in which case, please supply explicit cell edges to pcolormesh.\n",
      "  c = m_ax.pcolormesh(x, y, decadely_slopes_alpha_decade, cmap=cmap, norm=norm, shading=\"auto\")\n",
      "C:\\Users\\15523\\AppData\\Local\\Temp\\ipykernel_10992\\2690943043.py:52: UserWarning: This figure includes Axes that are not compatible with tight_layout, so results might be incorrect.\n",
      "  plt.tight_layout(rect=[0, 0, 0.9, 0.96])  # 留出空间给标题和颜色条\n",
      "C:\\Users\\15523\\AppData\\Local\\Temp\\ipykernel_10992\\2690943043.py:37: UserWarning: The input coordinates to pcolormesh are interpreted as cell centers, but are not monotonically increasing or decreasing. This may lead to incorrectly calculated cell edges, in which case, please supply explicit cell edges to pcolormesh.\n",
      "  c = m_ax.pcolormesh(x, y, decadely_slopes_alpha_decade, cmap=cmap, norm=norm, shading=\"auto\")\n",
      "C:\\Users\\15523\\AppData\\Local\\Temp\\ipykernel_10992\\2690943043.py:37: UserWarning: The input coordinates to pcolormesh are interpreted as cell centers, but are not monotonically increasing or decreasing. This may lead to incorrectly calculated cell edges, in which case, please supply explicit cell edges to pcolormesh.\n",
      "  c = m_ax.pcolormesh(x, y, decadely_slopes_alpha_decade, cmap=cmap, norm=norm, shading=\"auto\")\n",
      "C:\\Users\\15523\\AppData\\Local\\Temp\\ipykernel_10992\\2690943043.py:37: UserWarning: The input coordinates to pcolormesh are interpreted as cell centers, but are not monotonically increasing or decreasing. This may lead to incorrectly calculated cell edges, in which case, please supply explicit cell edges to pcolormesh.\n",
      "  c = m_ax.pcolormesh(x, y, decadely_slopes_alpha_decade, cmap=cmap, norm=norm, shading=\"auto\")\n",
      "C:\\Users\\15523\\AppData\\Local\\Temp\\ipykernel_10992\\2690943043.py:37: UserWarning: The input coordinates to pcolormesh are interpreted as cell centers, but are not monotonically increasing or decreasing. This may lead to incorrectly calculated cell edges, in which case, please supply explicit cell edges to pcolormesh.\n",
      "  c = m_ax.pcolormesh(x, y, decadely_slopes_alpha_decade, cmap=cmap, norm=norm, shading=\"auto\")\n",
      "C:\\Users\\15523\\AppData\\Local\\Temp\\ipykernel_10992\\2690943043.py:37: UserWarning: The input coordinates to pcolormesh are interpreted as cell centers, but are not monotonically increasing or decreasing. This may lead to incorrectly calculated cell edges, in which case, please supply explicit cell edges to pcolormesh.\n",
      "  c = m_ax.pcolormesh(x, y, decadely_slopes_alpha_decade, cmap=cmap, norm=norm, shading=\"auto\")\n",
      "C:\\Users\\15523\\AppData\\Local\\Temp\\ipykernel_10992\\2690943043.py:37: UserWarning: The input coordinates to pcolormesh are interpreted as cell centers, but are not monotonically increasing or decreasing. This may lead to incorrectly calculated cell edges, in which case, please supply explicit cell edges to pcolormesh.\n",
      "  c = m_ax.pcolormesh(x, y, decadely_slopes_alpha_decade, cmap=cmap, norm=norm, shading=\"auto\")\n",
      "C:\\Users\\15523\\AppData\\Local\\Temp\\ipykernel_10992\\2690943043.py:37: UserWarning: The input coordinates to pcolormesh are interpreted as cell centers, but are not monotonically increasing or decreasing. This may lead to incorrectly calculated cell edges, in which case, please supply explicit cell edges to pcolormesh.\n",
      "  c = m_ax.pcolormesh(x, y, decadely_slopes_alpha_decade, cmap=cmap, norm=norm, shading=\"auto\")\n",
      "C:\\Users\\15523\\AppData\\Local\\Temp\\ipykernel_10992\\2690943043.py:52: UserWarning: This figure includes Axes that are not compatible with tight_layout, so results might be incorrect.\n",
      "  plt.tight_layout(rect=[0, 0, 0.9, 0.96])  # 留出空间给标题和颜色条\n"
     ]
    }
   ],
   "source": [
    "import matplotlib.pyplot as plt\n",
    "from mpl_toolkits.basemap import Basemap\n",
    "import matplotlib.colors as mcolors\n",
    "import numpy as np\n",
    "\n",
    "lons, lats = np.meshgrid(LONS, LATS)  # 生成规则网格\n",
    "\n",
    "# 假设已有：ALPHAS, overall_slopes, lats, lons\n",
    "\n",
    "for alpha_idx, alpha in enumerate(ALPHAS):\n",
    "    N_COLS = 4\n",
    "    N_ROWS = int(np.ceil(len(ALPHAS) / N_COLS))\n",
    "    fig, axes = plt.subplots(N_ROWS, N_COLS, figsize=(5 * N_COLS, 5 * N_ROWS), subplot_kw={'projection': None})\n",
    "\n",
    "    # 统一颜色归一化范围\n",
    "    slope_min = np.min(DECADELY_SLOPES_MA[alpha_idx].flatten())\n",
    "    norm = mcolors.Normalize(vmin=-np.abs(slope_min), vmax=np.abs(slope_min))\n",
    "    cmap = \"coolwarm\"\n",
    "\n",
    "    # 将经纬度转换为 Basemap 使用的坐标\n",
    "    m = Basemap(projection=\"npstere\", boundinglat=60, lon_0=0, resolution=\"l\")\n",
    "    x, y = m(lons, lats)\n",
    "\n",
    "    # 如果 axes 只有一行，axes 需要转为二维数组统一处理\n",
    "    # axes = np.array(axes).reshape(-1, 2)\n",
    "\n",
    "    decadely_slopes_alpha = DECADELY_SLOPES_MA[alpha_idx]\n",
    "\n",
    "    for decade_idx, decade in enumerate(DECADES[:-1]):\n",
    "        row_idx, col_idx = divmod(decade_idx, N_COLS)\n",
    "        ax = axes[row_idx, col_idx]\n",
    "        \n",
    "        m_ax = Basemap(projection=\"npstere\", boundinglat=60, lon_0=0, resolution=\"l\", ax=ax)\n",
    "        decadely_slopes_alpha_decade = decadely_slopes_alpha[decade_idx]\n",
    "\n",
    "        x, y = m_ax(lons, lats)\n",
    "        c = m_ax.pcolormesh(x, y, decadely_slopes_alpha_decade, cmap=cmap, norm=norm, shading=\"auto\")\n",
    "\n",
    "        m_ax.drawcoastlines()\n",
    "        m_ax.drawcountries()\n",
    "        m_ax.drawparallels(np.arange(60, 91, 10))\n",
    "        m_ax.drawmeridians(np.arange(-180, 181, 30))\n",
    "\n",
    "        ax.set_title(f\"{decade}s\")\n",
    "\n",
    "    # 添加共享颜色条\n",
    "    cbar_ax = fig.add_axes([0.92, 0.15, 0.02, 0.7])  # [left, bottom, width, height]\n",
    "    fig.colorbar(c, cax=cbar_ax, ticks=[-np.abs(slope_min), 0, np.abs(slope_min)], orientation='vertical')\n",
    "    cbar_ax.set_ylabel(\"°C/year\")\n",
    "\n",
    "    fig.suptitle(\"Yearly increase of 2m temperature percentiles (°C/yr) for alpha = {:.2f}\".format(alpha), fontsize=16, y=0.95)\n",
    "    plt.tight_layout(rect=[0, 0, 0.9, 0.96])  # 留出空间给标题和颜色条\n",
    "    \n",
    "    fig.savefig(r\"C:\\SUSTech\\datasets_of_graduation_project\\hetero_outputs\\fig_outputs\\dt0sa\\heatmaps_of_2mtemp_annual\" + str(alpha) + \"_MA.png\", dpi=300, bbox_inches='tight')\n",
    "    plt.close(fig)  # 关闭图形以释放内存"
   ]
  },
  {
   "cell_type": "code",
   "execution_count": null,
   "id": "9589bc28",
   "metadata": {},
   "outputs": [],
   "source": []
  },
  {
   "cell_type": "code",
   "execution_count": null,
   "id": "1dc56dad",
   "metadata": {},
   "outputs": [],
   "source": []
  },
  {
   "cell_type": "code",
   "execution_count": null,
   "id": "9529101d",
   "metadata": {},
   "outputs": [],
   "source": []
  },
  {
   "cell_type": "code",
   "execution_count": null,
   "id": "85519b4e",
   "metadata": {},
   "outputs": [],
   "source": []
  },
  {
   "cell_type": "code",
   "execution_count": null,
   "id": "51972bf2",
   "metadata": {},
   "outputs": [],
   "source": []
  }
 ],
 "metadata": {
  "kernelspec": {
   "display_name": "base",
   "language": "python",
   "name": "python3"
  },
  "language_info": {
   "codemirror_mode": {
    "name": "ipython",
    "version": 3
   },
   "file_extension": ".py",
   "mimetype": "text/x-python",
   "name": "python",
   "nbconvert_exporter": "python",
   "pygments_lexer": "ipython3",
   "version": "3.11.3"
  }
 },
 "nbformat": 4,
 "nbformat_minor": 5
}
