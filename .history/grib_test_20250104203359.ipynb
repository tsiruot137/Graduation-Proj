{
 "cells": [
  {
   "cell_type": "markdown",
   "metadata": {},
   "source": [
    "Read the GRIB file."
   ]
  },
  {
   "cell_type": "code",
   "execution_count": 2,
   "metadata": {},
   "outputs": [
    {
     "data": {
      "text/plain": [
       "<pygrib._pygrib.open at 0x188bb25c350>"
      ]
     },
     "execution_count": 2,
     "metadata": {},
     "output_type": "execute_result"
    }
   ],
   "source": [
    "import pygrib\n",
    "\n",
    "msgs = pygrib.open(\"6088a684fda21def1cebba2d9abacdbe.grib\")\n",
    "msgs"
   ]
  },
  {
   "cell_type": "markdown",
   "metadata": {},
   "source": [
    "Look into it."
   ]
  },
  {
   "cell_type": "code",
   "execution_count": 7,
   "metadata": {},
   "outputs": [
    {
     "name": "stdout",
     "output_type": "stream",
     "text": [
      "1:2 metre temperature:K (instant):lambert:heightAboveGround:level 2 m:fcst time 0 hrs:from 202101010000\n",
      "2:2 metre temperature:K (instant):lambert:heightAboveGround:level 2 m:fcst time 0 hrs:from 202101010600\n",
      "3:2 metre temperature:K (instant):lambert:heightAboveGround:level 2 m:fcst time 0 hrs:from 202101011200\n",
      "4:2 metre temperature:K (instant):lambert:heightAboveGround:level 2 m:fcst time 0 hrs:from 202101011800\n"
     ]
    }
   ],
   "source": [
    "for msg in msgs[1:5]:\n",
    "    print(msg)"
   ]
  },
  {
   "cell_type": "code",
   "execution_count": 28,
   "metadata": {},
   "outputs": [
    {
     "data": {
      "text/plain": [
       "['globalDomain',\n",
       " 'GRIBEditionNumber',\n",
       " 'tablesVersionLatestOfficial',\n",
       " 'tablesVersionLatest',\n",
       " 'grib2divider',\n",
       " 'is_efas',\n",
       " 'angleSubdivisions',\n",
       " 'missingValue',\n",
       " 'ieeeFloats',\n",
       " 'isHindcast',\n",
       " 'section0Length',\n",
       " 'identifier',\n",
       " 'discipline',\n",
       " 'editionNumber',\n",
       " 'totalLength',\n",
       " 'sectionNumber',\n",
       " 'section1Length',\n",
       " 'numberOfSection',\n",
       " 'centre',\n",
       " 'centreDescription',\n",
       " 'subCentre',\n",
       " 'tablesVersion',\n",
       " 'masterDir',\n",
       " 'localTablesVersion',\n",
       " 'significanceOfReferenceTime',\n",
       " 'year',\n",
       " 'month',\n",
       " 'day',\n",
       " 'hour',\n",
       " 'minute',\n",
       " 'second',\n",
       " 'dataDate',\n",
       " 'julianDay',\n",
       " 'dataTime',\n",
       " 'productionStatusOfProcessedData',\n",
       " 'typeOfProcessedData',\n",
       " 'md5Section1',\n",
       " 'selectStepTemplateInterval',\n",
       " 'selectStepTemplateInstant',\n",
       " 'stepType',\n",
       " 'is_chemical',\n",
       " 'is_chemical_distfn',\n",
       " 'is_chemical_srcsink',\n",
       " 'is_aerosol',\n",
       " 'is_aerosol_optical',\n",
       " 'setCalendarId',\n",
       " 'deleteCalendarId',\n",
       " 'is_uerra',\n",
       " 'sectionNumber',\n",
       " 'grib2LocalSectionPresent',\n",
       " 'deleteLocalDefinition',\n",
       " 'section2Length',\n",
       " 'numberOfSection',\n",
       " 'addEmptySection2',\n",
       " 'crraLocalVersion',\n",
       " 'suiteName',\n",
       " 'grib2LocalSectionNumber',\n",
       " 'sectionNumber',\n",
       " 'gridDescriptionSectionPresent',\n",
       " 'section3Length',\n",
       " 'numberOfSection',\n",
       " 'sourceOfGridDefinition',\n",
       " 'numberOfDataPoints',\n",
       " 'numberOfOctectsForNumberOfPoints',\n",
       " 'interpretationOfNumberOfPoints',\n",
       " 'PLPresent',\n",
       " 'gridDefinitionTemplateNumber',\n",
       " 'gridDefinitionDescription',\n",
       " 'shapeOfTheEarth',\n",
       " 'scaleFactorOfRadiusOfSphericalEarth',\n",
       " 'scaledValueOfRadiusOfSphericalEarth',\n",
       " 'scaleFactorOfEarthMajorAxis',\n",
       " 'scaledValueOfEarthMajorAxis',\n",
       " 'scaleFactorOfEarthMinorAxis',\n",
       " 'scaledValueOfEarthMinorAxis',\n",
       " 'radius',\n",
       " 'Nx',\n",
       " 'Ny',\n",
       " 'latitudeOfFirstGridPoint',\n",
       " 'latitudeOfFirstGridPointInDegrees',\n",
       " 'longitudeOfFirstGridPoint',\n",
       " 'longitudeOfFirstGridPointInDegrees',\n",
       " 'resolutionAndComponentFlags',\n",
       " 'resolutionAndComponentFlags1',\n",
       " 'resolutionAndComponentFlags2',\n",
       " 'iDirectionIncrementGiven',\n",
       " 'jDirectionIncrementGiven',\n",
       " 'uvRelativeToGrid',\n",
       " 'resolutionAndComponentFlags6',\n",
       " 'resolutionAndComponentFlags7',\n",
       " 'resolutionAndComponentFlags8',\n",
       " 'ijDirectionIncrementGiven',\n",
       " 'LaD',\n",
       " 'LaDInDegrees',\n",
       " 'LoV',\n",
       " 'LoVInDegrees',\n",
       " 'Dx',\n",
       " 'DxInMetres',\n",
       " 'Dy',\n",
       " 'DyInMetres',\n",
       " 'projectionCentreFlag',\n",
       " 'scanningMode',\n",
       " 'iScansNegatively',\n",
       " 'jScansPositively',\n",
       " 'jPointsAreConsecutive',\n",
       " 'alternativeRowScanning',\n",
       " 'iScansPositively',\n",
       " 'scanningMode5',\n",
       " 'scanningMode6',\n",
       " 'scanningMode7',\n",
       " 'scanningMode8',\n",
       " 'Latin1',\n",
       " 'Latin1InDegrees',\n",
       " 'Latin2',\n",
       " 'Latin2InDegrees',\n",
       " 'latitudeOfSouthernPole',\n",
       " 'latitudeOfSouthernPoleInDegrees',\n",
       " 'longitudeOfSouthernPole',\n",
       " 'longitudeOfSouthernPoleInDegrees',\n",
       " 'latLonValues',\n",
       " 'latitudes',\n",
       " 'longitudes',\n",
       " 'distinctLatitudes',\n",
       " 'distinctLongitudes',\n",
       " 'gridType',\n",
       " 'md5Section3',\n",
       " 'sectionNumber',\n",
       " 'section4Length',\n",
       " 'numberOfSection',\n",
       " 'NV',\n",
       " 'neitherPresent',\n",
       " 'productDefinitionTemplateNumber',\n",
       " 'genVertHeightCoords',\n",
       " 'parameterCategory',\n",
       " 'parameterNumber',\n",
       " 'parameterUnits',\n",
       " 'parameterName',\n",
       " 'typeOfGeneratingProcess',\n",
       " 'backgroundProcess',\n",
       " 'generatingProcessIdentifier',\n",
       " 'hoursAfterDataCutoff',\n",
       " 'minutesAfterDataCutoff',\n",
       " 'indicatorOfUnitOfTimeRange',\n",
       " 'stepUnits',\n",
       " 'forecastTime',\n",
       " 'startStep',\n",
       " 'endStep',\n",
       " 'stepRange',\n",
       " 'stepTypeInternal',\n",
       " 'validityDate',\n",
       " 'validityTime',\n",
       " 'typeOfFirstFixedSurface',\n",
       " 'unitsOfFirstFixedSurface',\n",
       " 'nameOfFirstFixedSurface',\n",
       " 'scaleFactorOfFirstFixedSurface',\n",
       " 'scaledValueOfFirstFixedSurface',\n",
       " 'typeOfSecondFixedSurface',\n",
       " 'unitsOfSecondFixedSurface',\n",
       " 'nameOfSecondFixedSurface',\n",
       " 'scaleFactorOfSecondFixedSurface',\n",
       " 'scaledValueOfSecondFixedSurface',\n",
       " 'pressureUnits',\n",
       " 'typeOfLevel',\n",
       " 'level',\n",
       " 'bottomLevel',\n",
       " 'topLevel',\n",
       " 'tempPressureUnits',\n",
       " 'paramIdECMF',\n",
       " 'paramId',\n",
       " 'shortNameECMF',\n",
       " 'shortName',\n",
       " 'unitsECMF',\n",
       " 'units',\n",
       " 'nameECMF',\n",
       " 'name',\n",
       " 'cfNameECMF',\n",
       " 'cfName',\n",
       " 'cfVarNameECMF',\n",
       " 'cfVarName',\n",
       " 'modelName',\n",
       " 'marsExpver',\n",
       " 'marsClass',\n",
       " 'marsType',\n",
       " 'marsStream',\n",
       " 'ifsParam',\n",
       " 'PVPresent',\n",
       " 'pv',\n",
       " 'deletePV',\n",
       " 'md5Section4',\n",
       " 'lengthOfHeaders',\n",
       " 'md5Headers',\n",
       " 'sectionNumber',\n",
       " 'section5Length',\n",
       " 'numberOfSection',\n",
       " 'numberOfValues',\n",
       " 'dataRepresentationTemplateNumber',\n",
       " 'packingType',\n",
       " 'referenceValue',\n",
       " 'referenceValueError',\n",
       " 'binaryScaleFactor',\n",
       " 'decimalScaleFactor',\n",
       " 'optimizeScaleFactor',\n",
       " 'bitsPerValue',\n",
       " 'typeOfOriginalFieldValues',\n",
       " 'md5Section5',\n",
       " 'sectionNumber',\n",
       " 'section6Length',\n",
       " 'numberOfSection',\n",
       " 'bitMapIndicator',\n",
       " 'bitmapPresent',\n",
       " 'md5Section6',\n",
       " 'sectionNumber',\n",
       " 'section7Length',\n",
       " 'numberOfSection',\n",
       " 'codedValues',\n",
       " 'values',\n",
       " 'packingError',\n",
       " 'unpackedError',\n",
       " 'maximum',\n",
       " 'minimum',\n",
       " 'average',\n",
       " 'numberOfMissing',\n",
       " 'standardDeviation',\n",
       " 'skewness',\n",
       " 'kurtosis',\n",
       " 'isConstant',\n",
       " 'changeDecimalPrecision',\n",
       " 'decimalPrecision',\n",
       " 'setBitsPerValue',\n",
       " 'getNumberOfValues',\n",
       " 'scaleValuesBy',\n",
       " 'offsetValuesBy',\n",
       " 'productType',\n",
       " 'md5Section7',\n",
       " 'section8Length',\n",
       " 'analDate',\n",
       " 'validDate']"
      ]
     },
     "execution_count": 28,
     "metadata": {},
     "output_type": "execute_result"
    }
   ],
   "source": [
    "msgs[1].keys()"
   ]
  },
  {
   "cell_type": "code",
   "execution_count": 20,
   "metadata": {},
   "outputs": [
    {
     "data": {
      "text/plain": [
       "(989, 789)"
      ]
     },
     "execution_count": 20,
     "metadata": {},
     "output_type": "execute_result"
    }
   ],
   "source": [
    "msgs[1].latlons()[0].shape"
   ]
  },
  {
   "cell_type": "code",
   "execution_count": 16,
   "metadata": {},
   "outputs": [
    {
     "data": {
      "text/plain": [
       "(989, 789)"
      ]
     },
     "execution_count": 16,
     "metadata": {},
     "output_type": "execute_result"
    }
   ],
   "source": [
    "msgs[1].values.shape"
   ]
  },
  {
   "cell_type": "markdown",
   "metadata": {},
   "source": [
    "Hence, the data `msgs` consists of lots of `messages` (`msg`), and each `msg` contains a single time point of the two-meter temperatures of all the $989\\times 739$ grid points. The temperatures are accessed by `msg.values`."
   ]
  },
  {
   "cell_type": "code",
   "execution_count": 27,
   "metadata": {},
   "outputs": [
    {
     "data": {
      "text/plain": [
       "(280.10791015625, 233.64794921875, 269.9381298107956)"
      ]
     },
     "execution_count": 27,
     "metadata": {},
     "output_type": "execute_result"
    }
   ],
   "source": [
    "msgs[1].max, msgs[1].min, msgs[1].average"
   ]
  },
  {
   "cell_type": "code",
   "execution_count": 49,
   "metadata": {},
   "outputs": [
    {
     "data": {
      "text/plain": [
       "[<matplotlib.lines.Line2D at 0x188befabb90>]"
      ]
     },
     "execution_count": 49,
     "metadata": {},
     "output_type": "execute_result"
    },
    {
     "data": {
      "image/png": "[encoded data removed]",
      "text/plain": [
       "<Figure size 640x480 with 1 Axes>"
      ]
     },
     "metadata": {},
     "output_type": "display_data"
    }
   ],
   "source": [
    "avg_temp_timeSeries = []\n",
    "msgs.rewind() # remember to rewind the iterator before iterating again\n",
    "for msg in msgs:\n",
    "    avg_temp_timeSeries.append(msg.average)\n",
    "    \n",
    "import matplotlib.pyplot as plt\n",
    "plt.plot(avg_temp_timeSeries)"
   ]
  },
  {
   "cell_type": "code",
   "execution_count": 44,
   "metadata": {},
   "outputs": [
    {
     "data": {
      "text/plain": [
       "[<matplotlib.lines.Line2D at 0x188c1a49b90>]"
      ]
     },
     "execution_count": 44,
     "metadata": {},
     "output_type": "execute_result"
    },
    {
     "data": {
      "image/png": "[encoded data removed]",
      "text/plain": [
       "<Figure size 640x480 with 1 Axes>"
      ]
     },
     "metadata": {},
     "output_type": "display_data"
    }
   ],
   "source": [
    "max_temp_timeSeries = []\n",
    "msgs.rewind()\n",
    "for msg in msgs:\n",
    "    max_temp_timeSeries.append(msg.max)\n",
    "    \n",
    "plt.plot(max_temp_timeSeries)"
   ]
  },
  {
   "cell_type": "markdown",
   "metadata": {},
   "source": [
    "The temperatures over the entire "
   ]
  },
  {
   "cell_type": "code",
   "execution_count": null,
   "metadata": {},
   "outputs": [],
   "source": []
  },
  {
   "cell_type": "code",
   "execution_count": null,
   "metadata": {},
   "outputs": [],
   "source": [
    "msgs.close()"
   ]
  },
  {
   "cell_type": "markdown",
   "metadata": {},
   "source": []
  }
 ],
 "metadata": {
  "kernelspec": {
   "display_name": "base",
   "language": "python",
   "name": "python3"
  },
  "language_info": {
   "codemirror_mode": {
    "name": "ipython",
    "version": 3
   },
   "file_extension": ".py",
   "mimetype": "text/x-python",
   "name": "python",
   "nbconvert_exporter": "python",
   "pygments_lexer": "ipython3",
   "version": "3.11.3"
  }
 },
 "nbformat": 4,
 "nbformat_minor": 2
}
