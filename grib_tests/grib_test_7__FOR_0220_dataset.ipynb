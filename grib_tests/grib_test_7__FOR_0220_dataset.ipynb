{
 "cells": [
  {
   "cell_type": "markdown",
   "metadata": {},
   "source": [
    "Read the GRIB file."
   ]
  },
  {
   "cell_type": "code",
   "execution_count": 1,
   "metadata": {},
   "outputs": [
    {
     "data": {
      "text/plain": [
       "<pygrib._pygrib.open at 0x1fba6bb3d80>"
      ]
     },
     "execution_count": 1,
     "metadata": {},
     "output_type": "execute_result"
    }
   ],
   "source": [
    "import pygrib\n",
    "\n",
    "msgs = pygrib.open(r\"C:\\SUSTech\\datasets_of_graduation_project\\0220.grib\")\n",
    "msgs"
   ]
  },
  {
   "cell_type": "markdown",
   "metadata": {},
   "source": [
    "Look into it."
   ]
  },
  {
   "cell_type": "code",
   "execution_count": 2,
   "metadata": {},
   "outputs": [
    {
     "name": "stdout",
     "output_type": "stream",
     "text": [
      "1:2 metre temperature:K (instant):regular_ll:surface:level 0:fcst time 0 hrs:from 194501010000\n",
      "2:2 metre temperature:K (instant):regular_ll:surface:level 0:fcst time 0 hrs:from 194501010300\n",
      "3:2 metre temperature:K (instant):regular_ll:surface:level 0:fcst time 0 hrs:from 194501010600\n",
      "4:2 metre temperature:K (instant):regular_ll:surface:level 0:fcst time 0 hrs:from 194501010900\n"
     ]
    }
   ],
   "source": [
    "for msg in msgs[1:5]:\n",
    "    print(msg)"
   ]
  },
  {
   "cell_type": "code",
   "execution_count": 3,
   "metadata": {},
   "outputs": [
    {
     "data": {
      "text/plain": [
       "['globalDomain',\n",
       " 'GRIBEditionNumber',\n",
       " 'eps',\n",
       " 'offsetSection0',\n",
       " 'section0Length',\n",
       " 'totalLength',\n",
       " 'editionNumber',\n",
       " 'WMO',\n",
       " 'productionStatusOfProcessedData',\n",
       " 'section1Length',\n",
       " 'wrongPadding',\n",
       " 'table2Version',\n",
       " 'centre',\n",
       " 'centreDescription',\n",
       " 'generatingProcessIdentifier',\n",
       " 'gridDefinition',\n",
       " 'indicatorOfParameter',\n",
       " 'parameterName',\n",
       " 'parameterUnits',\n",
       " 'indicatorOfTypeOfLevel',\n",
       " 'pressureUnits',\n",
       " 'typeOfLevelECMF',\n",
       " 'typeOfLevel',\n",
       " 'level',\n",
       " 'yearOfCentury',\n",
       " 'month',\n",
       " 'day',\n",
       " 'hour',\n",
       " 'minute',\n",
       " 'second',\n",
       " 'unitOfTimeRange',\n",
       " 'P1',\n",
       " 'P2',\n",
       " 'timeRangeIndicator',\n",
       " 'numberIncludedInAverage',\n",
       " 'numberMissingFromAveragesOrAccumulations',\n",
       " 'centuryOfReferenceTimeOfData',\n",
       " 'subCentre',\n",
       " 'paramIdECMF',\n",
       " 'paramId',\n",
       " 'cfNameECMF',\n",
       " 'cfName',\n",
       " 'cfVarNameECMF',\n",
       " 'cfVarName',\n",
       " 'unitsECMF',\n",
       " 'units',\n",
       " 'nameECMF',\n",
       " 'name',\n",
       " 'decimalScaleFactor',\n",
       " 'setLocalDefinition',\n",
       " 'optimizeScaleFactor',\n",
       " 'dataDate',\n",
       " 'year',\n",
       " 'dataTime',\n",
       " 'julianDay',\n",
       " 'stepUnits',\n",
       " 'stepType',\n",
       " 'stepRange',\n",
       " 'startStep',\n",
       " 'endStep',\n",
       " 'marsParam',\n",
       " 'validityDate',\n",
       " 'validityTime',\n",
       " 'deleteLocalDefinition',\n",
       " 'localUsePresent',\n",
       " 'localDefinitionNumber',\n",
       " 'GRIBEXSection1Problem',\n",
       " 'marsClass',\n",
       " 'marsType',\n",
       " 'marsStream',\n",
       " 'experimentVersionNumber',\n",
       " 'perturbationNumber',\n",
       " 'numberOfForecastsInEnsemble',\n",
       " 'grib2LocalSectionNumber',\n",
       " 'shortNameECMF',\n",
       " 'shortName',\n",
       " 'ifsParam',\n",
       " 'stepTypeForConversion',\n",
       " 'md5Section1',\n",
       " 'md5Product',\n",
       " 'gridDescriptionSectionPresent',\n",
       " 'bitmapPresent',\n",
       " 'angleSubdivisions',\n",
       " 'section2Length',\n",
       " 'radius',\n",
       " 'numberOfVerticalCoordinateValues',\n",
       " 'neitherPresent',\n",
       " 'pvlLocation',\n",
       " 'dataRepresentationType',\n",
       " 'gridDefinitionDescription',\n",
       " 'gridDefinitionTemplateNumber',\n",
       " 'Ni',\n",
       " 'Nj',\n",
       " 'latitudeOfFirstGridPoint',\n",
       " 'latitudeOfFirstGridPointInDegrees',\n",
       " 'longitudeOfFirstGridPoint',\n",
       " 'longitudeOfFirstGridPointInDegrees',\n",
       " 'resolutionAndComponentFlags',\n",
       " 'ijDirectionIncrementGiven',\n",
       " 'earthIsOblate',\n",
       " 'resolutionAndComponentFlags3',\n",
       " 'resolutionAndComponentFlags4',\n",
       " 'uvRelativeToGrid',\n",
       " 'resolutionAndComponentFlags6',\n",
       " 'resolutionAndComponentFlags7',\n",
       " 'resolutionAndComponentFlags8',\n",
       " 'latitudeOfLastGridPoint',\n",
       " 'latitudeOfLastGridPointInDegrees',\n",
       " 'longitudeOfLastGridPoint',\n",
       " 'longitudeOfLastGridPointInDegrees',\n",
       " 'iDirectionIncrement',\n",
       " 'jDirectionIncrement',\n",
       " 'scanningMode',\n",
       " 'iScansNegatively',\n",
       " 'jScansPositively',\n",
       " 'jPointsAreConsecutive',\n",
       " 'alternativeRowScanning',\n",
       " 'iScansPositively',\n",
       " 'scanningMode4',\n",
       " 'scanningMode5',\n",
       " 'scanningMode6',\n",
       " 'scanningMode7',\n",
       " 'scanningMode8',\n",
       " 'jDirectionIncrementInDegrees',\n",
       " 'iDirectionIncrementInDegrees',\n",
       " 'numberOfDataPoints',\n",
       " 'numberOfValues',\n",
       " 'latLonValues',\n",
       " 'latitudes',\n",
       " 'longitudes',\n",
       " 'distinctLatitudes',\n",
       " 'distinctLongitudes',\n",
       " 'zeros',\n",
       " 'PVPresent',\n",
       " 'PLPresent',\n",
       " 'deletePV',\n",
       " 'md5Section2',\n",
       " 'lengthOfHeaders',\n",
       " 'md5Headers',\n",
       " 'missingValue',\n",
       " 'tableReference',\n",
       " 'section4Length',\n",
       " 'halfByte',\n",
       " 'dataFlag',\n",
       " 'binaryScaleFactor',\n",
       " 'referenceValue',\n",
       " 'referenceValueError',\n",
       " 'sphericalHarmonics',\n",
       " 'complexPacking',\n",
       " 'integerPointValues',\n",
       " 'additionalFlagPresent',\n",
       " 'orderOfSPD',\n",
       " 'boustrophedonic',\n",
       " 'hideThis',\n",
       " 'packingType',\n",
       " 'bitsPerValue',\n",
       " 'constantFieldHalfByte',\n",
       " 'bitMapIndicator',\n",
       " 'values',\n",
       " 'numberOfCodedValues',\n",
       " 'packingError',\n",
       " 'unpackedError',\n",
       " 'maximum',\n",
       " 'minimum',\n",
       " 'average',\n",
       " 'numberOfMissing',\n",
       " 'standardDeviation',\n",
       " 'skewness',\n",
       " 'kurtosis',\n",
       " 'isConstant',\n",
       " 'dataLength',\n",
       " 'changeDecimalPrecision',\n",
       " 'decimalPrecision',\n",
       " 'bitsPerValueAndRepack',\n",
       " 'scaleValuesBy',\n",
       " 'offsetValuesBy',\n",
       " 'gridType',\n",
       " 'getNumberOfValues',\n",
       " 'md5Section4',\n",
       " 'section5Length',\n",
       " 'analDate',\n",
       " 'validDate']"
      ]
     },
     "execution_count": 3,
     "metadata": {},
     "output_type": "execute_result"
    }
   ],
   "source": [
    "msg = msgs[1]\n",
    "msg.keys()"
   ]
  },
  {
   "cell_type": "code",
   "execution_count": 4,
   "metadata": {},
   "outputs": [
    {
     "data": {
      "text/plain": [
       "(1945, 1, 1, 0)"
      ]
     },
     "execution_count": 4,
     "metadata": {},
     "output_type": "execute_result"
    }
   ],
   "source": [
    "msg[\"year\"], msg[\"month\"], msg[\"day\"], msg[\"hour\"]"
   ]
  },
  {
   "cell_type": "code",
   "execution_count": null,
   "metadata": {},
   "outputs": [],
   "source": [
    "# DANGER！\n",
    "# msgs_list = list(msgs)\n",
    "# print(len(msgs_list))\n",
    "# msgs_list[3][\"values\"]"
   ]
  },
  {
   "cell_type": "code",
   "execution_count": null,
   "metadata": {},
   "outputs": [],
   "source": []
  },
  {
   "cell_type": "code",
   "execution_count": 7,
   "metadata": {},
   "outputs": [],
   "source": [
    "msgs.close()"
   ]
  },
  {
   "cell_type": "code",
   "execution_count": null,
   "metadata": {},
   "outputs": [],
   "source": []
  }
 ],
 "metadata": {
  "kernelspec": {
   "display_name": "base",
   "language": "python",
   "name": "python3"
  },
  "language_info": {
   "codemirror_mode": {
    "name": "ipython",
    "version": 3
   },
   "file_extension": ".py",
   "mimetype": "text/x-python",
   "name": "python",
   "nbconvert_exporter": "python",
   "pygments_lexer": "ipython3",
   "version": "3.11.3"
  }
 },
 "nbformat": 4,
 "nbformat_minor": 2
}
