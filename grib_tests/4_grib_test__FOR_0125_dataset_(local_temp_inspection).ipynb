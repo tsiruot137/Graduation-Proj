{
 "cells": [
  {
   "cell_type": "markdown",
   "metadata": {},
   "source": [
    "This notebook follows from the notebook `grib_test__FOR_0120_and_0122_and_0124_and_0125_ERA5_datasets.ipynb`. This notebook inspect instead the 2m-temps of a single position, namely, a single point of grid (or, a small vicinity of points of grid)."
   ]
  },
  {
   "cell_type": "code",
   "execution_count": 1,
   "metadata": {},
   "outputs": [],
   "source": [
    "import pygrib\n",
    "msgs = pygrib.open(r\"C:\\SUSTech\\datasets_of_graduation_project\\0125.grib\")"
   ]
  },
  {
   "cell_type": "code",
   "execution_count": 2,
   "metadata": {},
   "outputs": [
    {
     "name": "stdout",
     "output_type": "stream",
     "text": [
      "1:2 metre temperature:K (instant):regular_ll:surface:level 0:fcst time 0 hrs:from 194001010000\n",
      "2:2 metre temperature:K (instant):regular_ll:surface:level 0:fcst time 0 hrs:from 194001010600\n",
      "3:2 metre temperature:K (instant):regular_ll:surface:level 0:fcst time 0 hrs:from 194001011200\n",
      "4:2 metre temperature:K (instant):regular_ll:surface:level 0:fcst time 0 hrs:from 194001011800\n"
     ]
    }
   ],
   "source": [
    "for msg in msgs[1:5]:\n",
    "    print(msg)"
   ]
  },
  {
   "cell_type": "code",
   "execution_count": 3,
   "metadata": {},
   "outputs": [
    {
     "name": "stdout",
     "output_type": "stream",
     "text": [
      "(95, 1440)\n",
      "(136800,) (136800,)\n",
      "(95,) (1440,)\n",
      "(95, 1440)\n",
      "(136800,) (136800,)\n",
      "(95,) (1440,)\n"
     ]
    }
   ],
   "source": [
    "print(msgs[1][\"values\"].shape)\n",
    "print(msgs[1][\"latitudes\"].shape, msgs[1][\"longitudes\"].shape)\n",
    "print(msgs[1][\"distinctLatitudes\"].shape, msgs[1][\"distinctLongitudes\"].shape)\n",
    "\n",
    "print(msgs[2][\"values\"].shape)\n",
    "print(msgs[2][\"latitudes\"].shape, msgs[2][\"longitudes\"].shape)\n",
    "print(msgs[2][\"distinctLatitudes\"].shape, msgs[2][\"distinctLongitudes\"].shape)"
   ]
  },
  {
   "cell_type": "markdown",
   "metadata": {},
   "source": [
    "Hence, every `msg` contains the 2-m-temperatures for all positions of a $95\\times 1440 = 136800$ gridded Arctic regions."
   ]
  },
  {
   "cell_type": "code",
   "execution_count": 4,
   "metadata": {},
   "outputs": [
    {
     "data": {
      "text/plain": [
       "(array([90.  , 89.75, 89.5 , 89.25, 89.  , 88.75, 88.5 , 88.25, 88.  ,\n",
       "        87.75, 87.5 , 87.25, 87.  , 86.75, 86.5 , 86.25, 86.  , 85.75,\n",
       "        85.5 , 85.25, 85.  , 84.75, 84.5 , 84.25, 84.  , 83.75, 83.5 ,\n",
       "        83.25, 83.  , 82.75, 82.5 , 82.25, 82.  , 81.75, 81.5 , 81.25,\n",
       "        81.  , 80.75, 80.5 , 80.25, 80.  , 79.75, 79.5 , 79.25, 79.  ,\n",
       "        78.75, 78.5 , 78.25, 78.  , 77.75, 77.5 , 77.25, 77.  , 76.75,\n",
       "        76.5 , 76.25, 76.  , 75.75, 75.5 , 75.25, 75.  , 74.75, 74.5 ,\n",
       "        74.25, 74.  , 73.75, 73.5 , 73.25, 73.  , 72.75, 72.5 , 72.25,\n",
       "        72.  , 71.75, 71.5 , 71.25, 71.  , 70.75, 70.5 , 70.25, 70.  ,\n",
       "        69.75, 69.5 , 69.25, 69.  , 68.75, 68.5 , 68.25, 68.  , 67.75,\n",
       "        67.5 , 67.25, 67.  , 66.75, 66.5 ]),\n",
       " array([-180.  , -179.75, -179.5 , ...,  179.25,  179.5 ,  179.75]))"
      ]
     },
     "execution_count": 4,
     "metadata": {},
     "output_type": "execute_result"
    }
   ],
   "source": [
    "msgs[1][\"distinctLatitudes\"], msgs[1][\"distinctLongitudes\"]"
   ]
  },
  {
   "cell_type": "code",
   "execution_count": 5,
   "metadata": {},
   "outputs": [
    {
     "data": {
      "text/plain": [
       "(array([[240.50689697, 240.3447876 , 239.85845947, 239.52252197,\n",
       "         239.62017822],\n",
       "        [240.96783447, 241.0322876 , 241.13970947, 241.23931885,\n",
       "         241.2901001 ],\n",
       "        [242.5791626 , 242.6963501 , 242.77838135, 242.83111572,\n",
       "         242.7197876 ],\n",
       "        [243.6729126 , 244.17486572, 244.27056885, 244.06744385,\n",
       "         243.8760376 ],\n",
       "        [244.32720947, 244.48931885, 244.65142822, 244.8135376 ,\n",
       "         244.80963135]]),\n",
       " array([[68.  , 68.  , 68.  , 68.  , 68.  ],\n",
       "        [67.75, 67.75, 67.75, 67.75, 67.75],\n",
       "        [67.5 , 67.5 , 67.5 , 67.5 , 67.5 ],\n",
       "        [67.25, 67.25, 67.25, 67.25, 67.25],\n",
       "        [67.  , 67.  , 67.  , 67.  , 67.  ]]),\n",
       " array([[58.  , 58.25, 58.5 , 58.75, 59.  ],\n",
       "        [58.  , 58.25, 58.5 , 58.75, 59.  ],\n",
       "        [58.  , 58.25, 58.5 , 58.75, 59.  ],\n",
       "        [58.  , 58.25, 58.5 , 58.75, 59.  ],\n",
       "        [58.  , 58.25, 58.5 , 58.75, 59.  ]]))"
      ]
     },
     "execution_count": 5,
     "metadata": {},
     "output_type": "execute_result"
    }
   ],
   "source": [
    "msg = msgs[1]\n",
    "msg.data(lat1=67, lon1=58, lat2=68, lon2=59)"
   ]
  },
  {
   "cell_type": "code",
   "execution_count": 6,
   "metadata": {},
   "outputs": [
    {
     "data": {
      "text/plain": [
       "(array([[244.32720947]]), array([[67.]]), array([[58.]]))"
      ]
     },
     "execution_count": 6,
     "metadata": {},
     "output_type": "execute_result"
    }
   ],
   "source": [
    "msg.data(lat1=67, lon1=58, lat2=67, lon2=58)"
   ]
  },
  {
   "cell_type": "code",
   "execution_count": 7,
   "metadata": {},
   "outputs": [
    {
     "data": {
      "text/plain": [
       "244.32720947265625"
      ]
     },
     "execution_count": 7,
     "metadata": {},
     "output_type": "execute_result"
    }
   ],
   "source": [
    "msg.data(lat1=67, lon1=58, lat2=67, lon2=58)[0][0][0]"
   ]
  },
  {
   "cell_type": "markdown",
   "metadata": {},
   "source": [
    "Hence we know that the resolution of the grid is $0.25^\\circ\\times 0.25^\\circ$, and we can use `msg.data(lat1, lon1, lat2, lon2)` to access the data of the rectanglular region `(lat1, lon1), (lat2, lon1), (lat1, lon2), (lat2, lon2)`. \n",
    "\n",
    "The order of the data conforms to our convention: northwards is upwards, eastwards is rightwards."
   ]
  },
  {
   "cell_type": "code",
   "execution_count": 8,
   "metadata": {},
   "outputs": [
    {
     "name": "stdout",
     "output_type": "stream",
     "text": [
      "True\n"
     ]
    },
    {
     "data": {
      "text/plain": [
       "array([[249.50494385, 249.50494385, 249.50494385, ..., 249.50494385,\n",
       "        249.50494385, 249.50494385],\n",
       "       [249.3838501 , 249.3838501 , 249.38189697, ..., 249.38580322,\n",
       "        249.38580322, 249.3838501 ],\n",
       "       [249.2588501 , 249.25689697, 249.25494385, ..., 249.26080322,\n",
       "        249.26080322, 249.2588501 ],\n",
       "       ...,\n",
       "       [245.50299072, 246.10064697, 246.90924072, ..., 246.35064697,\n",
       "        246.24713135, 245.7197876 ],\n",
       "       [248.1026001 , 248.0635376 , 248.02056885, ..., 245.80767822,\n",
       "        246.62213135, 247.36431885],\n",
       "       [249.53033447, 249.09283447, 248.45220947, ..., 245.3994751 ,\n",
       "        246.7432251 , 248.26861572]])"
      ]
     },
     "execution_count": 8,
     "metadata": {},
     "output_type": "execute_result"
    }
   ],
   "source": [
    "import numpy as np\n",
    "print(np.array_equal(msg[\"values\"], msg.data(lat1=66.5, lon1=-180, lat2=90, lon2=180)[0]))\n",
    "# the lat1, lon1, lat2, lon2 are obtained from the request form of the data file; \n",
    "# and it must be: lat1 < lat2, lon1 < lon2\n",
    "\n",
    "msg[\"values\"]"
   ]
  },
  {
   "cell_type": "markdown",
   "metadata": {},
   "source": [
    "And it shows that the two ways to access the data are equivalent. Also, a row of `msg[\"values\"]` represents a latitude line."
   ]
  },
  {
   "cell_type": "markdown",
   "metadata": {},
   "source": [
    "## Inspect the 2m-temp of target lat-lon position."
   ]
  },
  {
   "cell_type": "code",
   "execution_count": 41,
   "metadata": {},
   "outputs": [],
   "source": [
    "lat_target = 80\n",
    "lon_target = 50"
   ]
  },
  {
   "cell_type": "markdown",
   "metadata": {},
   "source": [
    "The following cell of code to compute `ts_targetTemp` was tried as very slow, due to repeatedly searching the index of target position from the whole map (`msg.data(...)`). Hence we instead search the index and save it at the beginning, and then it is successfully optimized."
   ]
  },
  {
   "cell_type": "code",
   "execution_count": 42,
   "metadata": {},
   "outputs": [],
   "source": [
    "# import numpy as np\n",
    "# ts_targetTemp = [] # time series of temperatures of target position\n",
    "# msgs.rewind()\n",
    "# for msg in msgs:\n",
    "#     ts_targetTemp.append(msg.data(lat1=lat_target, lon1=lon_target, \n",
    "#                                   lat2=lat_target, lon2=lon_target)[0][0][0])\n",
    "    \n",
    "# ts_targetTemp = np.array(ts_targetTemp)"
   ]
  },
  {
   "cell_type": "code",
   "execution_count": 43,
   "metadata": {},
   "outputs": [],
   "source": [
    "msg = msgs[1]\n",
    "idx_lat_target = np.where(msg[\"distinctLatitudes\"] == lat_target)[0][0]\n",
    "idx_lon_target = np.where(msg[\"distinctLongitudes\"] == lon_target)[0][0]\n",
    "\n",
    "msgs.rewind()\n",
    "del msg\n",
    "# time series of temperatures of target position\n",
    "ts_targetTemp = np.array([msg[\"values\"][idx_lat_target, idx_lon_target] for msg in msgs])"
   ]
  },
  {
   "cell_type": "markdown",
   "metadata": {},
   "source": [
    "Maximize over each year"
   ]
  },
  {
   "cell_type": "code",
   "execution_count": null,
   "metadata": {},
   "outputs": [],
   "source": [
    "N = 4*15*12 # 4 hours per day, 15 days per month, 12 months per year\n",
    "N_years = 43 # 1940, 1942, ..., 2024, 43 years in total"
   ]
  },
  {
   "cell_type": "code",
   "execution_count": 45,
   "metadata": {},
   "outputs": [
    {
     "data": {
      "text/plain": [
       "([<matplotlib.axis.XTick at 0x2820d8fc0d0>,\n",
       "  <matplotlib.axis.XTick at 0x2820c325250>,\n",
       "  <matplotlib.axis.XTick at 0x2820d91a4d0>,\n",
       "  <matplotlib.axis.XTick at 0x2820d952650>,\n",
       "  <matplotlib.axis.XTick at 0x2820d960910>,\n",
       "  <matplotlib.axis.XTick at 0x2820d8e1f90>,\n",
       "  <matplotlib.axis.XTick at 0x2820d963cd0>,\n",
       "  <matplotlib.axis.XTick at 0x2820d965e50>,\n",
       "  <matplotlib.axis.XTick at 0x2820d9700d0>],\n",
       " [Text(0, 0, '1940'),\n",
       "  Text(5, 0, '1950'),\n",
       "  Text(10, 0, '1960'),\n",
       "  Text(15, 0, '1970'),\n",
       "  Text(20, 0, '1980'),\n",
       "  Text(25, 0, '1990'),\n",
       "  Text(30, 0, '2000'),\n",
       "  Text(35, 0, '2010'),\n",
       "  Text(40, 0, '2020')])"
      ]
     },
     "execution_count": 45,
     "metadata": {},
     "output_type": "execute_result"
    },
    {
     "data": {
      "image/png": "[encoded data removed]",
      "text/plain": [
       "<Figure size 640x480 with 1 Axes>"
      ]
     },
     "metadata": {},
     "output_type": "display_data"
    }
   ],
   "source": [
    "# maximize the target temp over each year \n",
    "ts_annualMax_TargetTemp = np.array([ts_targetTemp[y*N:(y+1)*N].max() \n",
    "                                             for y in range(0, N_years-1)])\n",
    "\n",
    "# get the 90th percentile of the target temp over each year \n",
    "ts_annual90Percentile_TargetTemp = np.array([np.percentile(ts_targetTemp[y*N:(y+1)*N], 90) \n",
    "                                             for y in range(0, N_years-1)])  \n",
    "\n",
    "import matplotlib.pyplot as plt\n",
    "plt.plot(ts_annual90Percentile_TargetTemp, label=\"90th percentile\")\n",
    "plt.plot(ts_annualMax_TargetTemp, label=\"max\")\n",
    "plt.xlabel(\"Year\")\n",
    "plt.ylabel(\"2m-temp (K)\")\n",
    "plt.legend()\n",
    "\n",
    "# for 0125 dataset, set the x-axis to be year 1940, 1942, ..., 2024, but only show every decade\n",
    "plt.xticks(np.arange(0, N_years-1, 5), np.arange(1940, 2024, 10))\n"
   ]
  },
  {
   "cell_type": "code",
   "execution_count": 46,
   "metadata": {},
   "outputs": [],
   "source": [
    "# # 预定义经纬度范围（避免重复计算）\n",
    "# lat1, lon1 = lat_target, lon_target\n",
    "# lat2, lon2 = lat_target, lon_target\n",
    "\n",
    "# # 使用列表推导式替代显式循环\n",
    "# msgs.rewind()\n",
    "# ts_targetTemp = np.array([msg.data(lat1=lat1, lon1=lon1, lat2=lat2, lon2=lon2)[0][0][0] for msg in msgs])\n",
    "\n",
    "## No help for accelerating the computation"
   ]
  },
  {
   "cell_type": "code",
   "execution_count": 47,
   "metadata": {},
   "outputs": [],
   "source": [
    "# msgs.close()"
   ]
  }
 ],
 "metadata": {
  "kernelspec": {
   "display_name": "base",
   "language": "python",
   "name": "python3"
  },
  "language_info": {
   "codemirror_mode": {
    "name": "ipython",
    "version": 3
   },
   "file_extension": ".py",
   "mimetype": "text/x-python",
   "name": "python",
   "nbconvert_exporter": "python",
   "pygments_lexer": "ipython3",
   "version": "3.11.3"
  }
 },
 "nbformat": 4,
 "nbformat_minor": 2
}
